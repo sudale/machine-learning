{
 "cells": [
  {
   "cell_type": "code",
   "execution_count": 1,
   "id": "fa77f210-91a2-40ab-9576-54c61755866e",
   "metadata": {},
   "outputs": [],
   "source": [
    "import numpy as np"
   ]
  },
  {
   "cell_type": "code",
   "execution_count": 2,
   "id": "e216c300-4169-40c5-9049-2035b6fba2df",
   "metadata": {},
   "outputs": [],
   "source": [
    "x_data=np.array([2,4,6,8,10,12,14,16,18,20]).reshape(10,1)\n",
    "t_data=np.array([0,0,0,0,0,0,1,1,1,1]).reshape(10,1)"
   ]
  },
  {
   "cell_type": "code",
   "execution_count": 3,
   "id": "a18f450e-7edc-47fa-a966-ecc81ec7453c",
   "metadata": {},
   "outputs": [],
   "source": [
    "x_data=np.array([[2,4],[4,11],[6,6],[8,5],[10,7],[12,16],[14,8],[16,3],[18,7]])\n",
    "t_data=np.array([0,0,0,0,1,1,1,1,1]).reshape(9,1)"
   ]
  },
  {
   "cell_type": "code",
   "execution_count": 4,
   "id": "290042a5-1e0a-4f00-9acd-16bafd42efd9",
   "metadata": {},
   "outputs": [
    {
     "name": "stdout",
     "output_type": "stream",
     "text": [
      "[[ 2  4]\n",
      " [ 4 11]\n",
      " [ 6  6]\n",
      " [ 8  5]\n",
      " [10  7]\n",
      " [12 16]\n",
      " [14  8]\n",
      " [16  3]\n",
      " [18  7]]\n",
      "[[0]\n",
      " [0]\n",
      " [0]\n",
      " [0]\n",
      " [1]\n",
      " [1]\n",
      " [1]\n",
      " [1]\n",
      " [1]]\n"
     ]
    }
   ],
   "source": [
    "print(x_data)\n",
    "print(t_data)"
   ]
  },
  {
   "cell_type": "code",
   "execution_count": 5,
   "id": "b6bd2732-1d16-4551-b304-def88a47ee85",
   "metadata": {},
   "outputs": [
    {
     "name": "stdout",
     "output_type": "stream",
     "text": [
      "[[0.40480793]\n",
      " [0.93144338]] [0.68577127]\n"
     ]
    }
   ],
   "source": [
    "w=np.random.rand(2,1)\n",
    "b=np.random.rand(1)\n",
    "print(w,b)"
   ]
  },
  {
   "cell_type": "code",
   "execution_count": 6,
   "id": "27ed0a21-9908-46b3-9da4-2c5b2d8f183c",
   "metadata": {},
   "outputs": [],
   "source": [
    "def sigmoid(x):\n",
    "    return 1/(1+np.exp(-x))"
   ]
  },
  {
   "cell_type": "code",
   "execution_count": 7,
   "id": "3a9557f6-f834-488e-8906-1094ddcdb5c0",
   "metadata": {},
   "outputs": [],
   "source": [
    "def loss_func(x,t):\n",
    "    delta=1e-7\n",
    "    z=np.dot(x,w)+b\n",
    "    y=sigmoid(z)\n",
    "    return -np.sum(t*np.log(y+delta)+(1-t)*np.log(1-y+delta))"
   ]
  },
  {
   "cell_type": "code",
   "execution_count": 8,
   "id": "be04a06f-6580-456e-b92e-a1e3e5d528f5",
   "metadata": {},
   "outputs": [],
   "source": [
    "def numerical_derivative(f,x):\n",
    "    delta_x= 1e-4\n",
    "    grad = np.zeros_like(x)\n",
    "    \n",
    "#     print(\"debug 1. initial input variable =\", x)\n",
    "#     print(\"debug 2. initial grad =\", grad)\n",
    "#     print(\"=====================================\")\n",
    "    \n",
    "    it = np.nditer(x, flags=['multi_index'], op_flags=['readwrite'])\n",
    "    \n",
    "    while not it.finished:\n",
    "        idx=it.multi_index\n",
    "        \n",
    "#         print(\"debug 3. idx=\", idx, \", x[idx]=\", x[idx])\n",
    "        \n",
    "        tmp_val = x[idx]\n",
    "        x[idx] = float(tmp_val) + delta_x\n",
    "        fx1 = f(x) #f(x+delta_x)\n",
    "        \n",
    "        x[idx] = float(tmp_val) - delta_x\n",
    "        fx2 = f(x) #f(x-delta_X)\n",
    "        grad[idx] = (fx1 - fx2) / (2*delta_x)\n",
    "        \n",
    "#         print(\"debug 4. grad[idx]=\", grad[idx])\n",
    "#         print(\"debug 5. grad =\", grad)\n",
    "#         print(\"=====================================\")\n",
    "        \n",
    "        x[idx] = tmp_val\n",
    "        it.iternext()\n",
    "        \n",
    "    return grad"
   ]
  },
  {
   "cell_type": "code",
   "execution_count": 9,
   "id": "20f6283c-9047-48b0-bfe0-0988b86d275e",
   "metadata": {},
   "outputs": [],
   "source": [
    "def predict(x):\n",
    "    z=np.dot(x,w)+b\n",
    "    y=sigmoid(z)\n",
    "    \n",
    "    if y>0.5:\n",
    "        result=1\n",
    "    else:\n",
    "        result=0\n",
    "    return y, result"
   ]
  },
  {
   "cell_type": "code",
   "execution_count": 10,
   "id": "b5672139-66f9-47ef-af4f-8816e492288b",
   "metadata": {},
   "outputs": [
    {
     "name": "stdout",
     "output_type": "stream",
     "text": [
      "Initial error value: 35.033579406254674 Initial w= [[0.40480793]\n",
      " [0.93144338]] Initial b= [0.68577127]\n",
      "step= 0 error value= 24.282687500565352 w= [[0.20612707]\n",
      " [0.67476443]] b= [0.64609144]\n",
      "step= 400 error value= 2.2949979218531693 w= [[ 0.41759978]\n",
      " [-0.08860381]] b= [-2.58141809]\n",
      "step= 800 error value= 1.599652033251949 w= [[ 0.53430275]\n",
      " [-0.02727386]] b= [-4.23641421]\n",
      "step= 1200 error value= 1.2844551004074334 w= [[0.62185352]\n",
      " [0.00842758]] b= [-5.35527871]\n",
      "step= 1600 error value= 1.1010137035354228 w= [[0.69244691]\n",
      " [0.03378218]] b= [-6.20978052]\n",
      "step= 2000 error value= 0.9786497287042756 w= [[0.75190592]\n",
      " [0.05393441]] b= [-6.90789926]\n",
      "step= 2400 error value= 0.8897409849840965 w= [[0.80343468]\n",
      " [0.0711569 ]] b= [-7.5030213]\n",
      "step= 2800 error value= 0.8212700458196605 w= [[0.84898672]\n",
      " [0.08662169]] b= [-8.02527628]\n",
      "step= 3200 error value= 0.7662862458535755 w= [[0.88984515]\n",
      " [0.10099511]] b= [-8.4932609]\n",
      "step= 3600 error value= 0.7207293590752288 w= [[0.92690178]\n",
      " [0.11468072]] b= [-8.9192259]\n",
      "step= 4000 error value= 0.6820609043609839 w= [[0.96080501]\n",
      " [0.12793259]] b= [-9.31165278]\n",
      "step= 4400 error value= 0.648607148378858 w= [[0.99204418]\n",
      " [0.14091327]] b= [-9.67664826]\n",
      "step= 4800 error value= 0.6192163848520875 w= [[1.02100041]\n",
      " [0.15372601]] b= [-10.01875063]\n",
      "step= 5200 error value= 0.5930678968895511 w= [[1.04797878]\n",
      " [0.16643388]] b= [-10.3414216]\n",
      "step= 5600 error value= 0.5695595309642281 w= [[1.07322914]\n",
      " [0.17907188]] b= [-10.64735974]\n",
      "step= 6000 error value= 0.5482384660296508 w= [[1.09696013]\n",
      " [0.19165523]] b= [-10.93870779]\n",
      "step= 6400 error value= 0.5287569094703797 w= [[1.11934864]\n",
      " [0.20418526]] b= [-11.21719425]\n",
      "step= 6800 error value= 0.510842791503834 w= [[1.14054638]\n",
      " [0.21665389]] b= [-11.48423274]\n",
      "step= 7200 error value= 0.494279816573341 w= [[1.16068453]\n",
      " [0.22904711]] b= [-11.74099348]\n",
      "step= 7600 error value= 0.4788935404381686 w= [[1.17987711]\n",
      " [0.24134762]] b= [-11.98845582]\n",
      "step= 8000 error value= 0.4645414383260596 w= [[1.1982235 ]\n",
      " [0.25353691]] b= [-12.22744754]\n",
      "step= 8400 error value= 0.45110568357569386 w= [[1.2158104 ]\n",
      " [0.26559676]] b= [-12.45867475]\n",
      "step= 8800 error value= 0.438487808641541 w= [[1.23271347]\n",
      " [0.27751026]] b= [-12.68274492]\n",
      "step= 9200 error value= 0.4266046995219607 w= [[1.24899873]\n",
      " [0.2892625 ]] b= [-12.90018491]\n",
      "step= 9600 error value= 0.41538555142727573 w= [[1.2647237 ]\n",
      " [0.30084091]] b= [-13.11145515]\n",
      "step= 10000 error value= 0.40476952810883376 w= [[1.27993854]\n",
      " [0.31223537]] b= [-13.31696088]\n",
      "step= 10400 error value= 0.39470394326338193 w= [[1.29468697]\n",
      " [0.32343817]] b= [-13.5170612]\n",
      "step= 10800 error value= 0.3851428338833911 w= [[1.30900713]\n",
      " [0.33444385]] b= [-13.71207636]\n",
      "step= 11200 error value= 0.37604583095004973 w= [[1.32293233]\n",
      " [0.34524897]] b= [-13.90229366]\n",
      "step= 11600 error value= 0.36737725782623987 w= [[1.33649176]\n",
      " [0.35585185]] b= [-14.0879723]\n",
      "step= 12000 error value= 0.35910540452147066 w= [[1.34971104]\n",
      " [0.36625232]] b= [-14.2693473]\n",
      "step= 12400 error value= 0.35120193888755974 w= [[1.36261274]\n",
      " [0.37645146]] b= [-14.44663284]\n",
      "step= 12800 error value= 0.3436414252380892 w= [[1.37521681]\n",
      " [0.38645135]] b= [-14.6200249]\n",
      "step= 13200 error value= 0.3364009278596053 w= [[1.38754097]\n",
      " [0.3962549 ]] b= [-14.78970359]\n",
      "step= 13600 error value= 0.3294596820862293 w= [[1.39960103]\n",
      " [0.40586563]] b= [-14.95583503]\n",
      "step= 14000 error value= 0.3227988195205038 w= [[1.41141115]\n",
      " [0.41528757]] b= [-15.11857297]\n",
      "step= 14400 error value= 0.31640113694441674 w= [[1.42298406]\n",
      " [0.42452505]] b= [-15.27806015]\n",
      "step= 14800 error value= 0.3102509007202516 w= [[1.43433129]\n",
      " [0.43358267]] b= [-15.43442947]\n",
      "step= 15200 error value= 0.3043336802102247 w= [[1.44546331]\n",
      " [0.44246519]] b= [-15.58780501]\n",
      "step= 15600 error value= 0.29863620507617794 w= [[1.45638967]\n",
      " [0.45117741]] b= [-15.73830287]\n",
      "step= 16000 error value= 0.2931462423548545 w= [[1.46711913]\n",
      " [0.45972421]] b= [-15.88603195]\n",
      "step= 16400 error value= 0.2878524900094317 w= [[1.47765973]\n",
      " [0.4681104 ]] b= [-16.03109458]\n",
      "step= 16800 error value= 0.2827444842902795 w= [[1.48801891]\n",
      " [0.47634077]] b= [-16.17358713]\n",
      "step= 17200 error value= 0.2778125187352314 w= [[1.49820358]\n",
      " [0.48442002]] b= [-16.31360047]\n",
      "step= 17600 error value= 0.27304757303522775 w= [[1.50822015]\n",
      " [0.49235274]] b= [-16.45122047]\n",
      "step= 18000 error value= 0.2684412503051648 w= [[1.51807461]\n",
      " [0.50014342]] b= [-16.58652837]\n",
      "step= 18400 error value= 0.26398572155230854 w= [[1.52777255]\n",
      " [0.5077964 ]] b= [-16.71960113]\n",
      "step= 18800 error value= 0.25967367633767124 w= [[1.53731925]\n",
      " [0.51531593]] b= [-16.85051178]\n",
      "step= 19200 error value= 0.25549827879043735 w= [[1.54671964]\n",
      " [0.52270608]] b= [-16.97932967]\n",
      "step= 19600 error value= 0.251453128269381 w= [[1.55597841]\n",
      " [0.52997081]] b= [-17.10612076]\n",
      "step= 20000 error value= 0.24753222407496595 w= [[1.56509995]\n",
      " [0.53711393]] b= [-17.23094783]\n"
     ]
    }
   ],
   "source": [
    "learning_rate=1e-4\n",
    "\n",
    "f=lambda x: loss_func(x_data, t_data)\n",
    "    \n",
    "print(\"Initial error value:\", loss_func(x_data, t_data), \"Initial w=\",w,\"Initial b=\",b)\n",
    "\n",
    "for step in range(20001):\n",
    "    w-=learning_rate * numerical_derivative(f,w)\n",
    "    b-=learning_rate * numerical_derivative(f,b)\n",
    "    \n",
    "    if step%400==0:\n",
    "        print(\"step=\", step, \"error value=\", loss_func(x_data, t_data), \"w=\",w,\"b=\",b)"
   ]
  },
  {
   "cell_type": "code",
   "execution_count": 18,
   "id": "d460a71e-261f-42dd-a92d-701eb00351a6",
   "metadata": {},
   "outputs": [],
   "source": [
    "# (real_val, logical_val)=predict(12.96)\n",
    "# print(real_val, logical_val)"
   ]
  },
  {
   "cell_type": "code",
   "execution_count": 22,
   "id": "c57f12b4-d929-4862-829a-d5683ce5a33d",
   "metadata": {},
   "outputs": [
    {
     "data": {
      "text/plain": [
       "(array([0.37619729]), 0)"
      ]
     },
     "execution_count": 22,
     "metadata": {},
     "output_type": "execute_result"
    }
   ],
   "source": [
    "test_data=np.array([10,2])\n",
    "predict(test_data)"
   ]
  },
  {
   "cell_type": "code",
   "execution_count": null,
   "id": "e0ffde30-23a0-4870-9ddd-16e40f18c859",
   "metadata": {},
   "outputs": [],
   "source": []
  }
 ],
 "metadata": {
  "kernelspec": {
   "display_name": "Python 3",
   "language": "python",
   "name": "python3"
  },
  "language_info": {
   "codemirror_mode": {
    "name": "ipython",
    "version": 3
   },
   "file_extension": ".py",
   "mimetype": "text/x-python",
   "name": "python",
   "nbconvert_exporter": "python",
   "pygments_lexer": "ipython3",
   "version": "3.8.8"
  }
 },
 "nbformat": 4,
 "nbformat_minor": 5
}
