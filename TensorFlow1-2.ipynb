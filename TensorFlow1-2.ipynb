{
 "cells": [
  {
   "cell_type": "code",
   "execution_count": 2,
   "id": "5fe7f32a-7dc7-4f27-b8b1-810274ec72aa",
   "metadata": {},
   "outputs": [
    {
     "name": "stdout",
     "output_type": "stream",
     "text": [
      "WARNING:tensorflow:From C:\\Users\\dta47\\anaconda3\\lib\\site-packages\\tensorflow\\python\\compat\\v2_compat.py:107: disable_resource_variables (from tensorflow.python.ops.variable_scope) is deprecated and will be removed in a future version.\n",
      "Instructions for updating:\n",
      "non-resource variables are not supported in the long term\n"
     ]
    }
   ],
   "source": [
    "import tensorflow as tf\n",
    "import tensorflow.compat.v1 as tf\n",
    "tf.disable_v2_behavior()"
   ]
  },
  {
   "cell_type": "code",
   "execution_count": 3,
   "id": "d3206f19-81bf-4f9f-81da-d5a8a3c50ce3",
   "metadata": {},
   "outputs": [],
   "source": [
    "tf.set_random_seed(777)"
   ]
  },
  {
   "cell_type": "code",
   "execution_count": 4,
   "id": "42117cc8-01c1-4dd2-b2bc-545b06916252",
   "metadata": {},
   "outputs": [],
   "source": [
    "x_data=[1,2,3,4,5]\n",
    "t_data=[2,3,4,5,6] # y=x+1"
   ]
  },
  {
   "cell_type": "code",
   "execution_count": 5,
   "id": "0044149c-b0b2-4c81-a96e-81e205ea097a",
   "metadata": {},
   "outputs": [
    {
     "name": "stdout",
     "output_type": "stream",
     "text": [
      "w= <tf.Variable 'weight:0' shape=(1,) dtype=float32_ref> b= <tf.Variable 'bias:0' shape=(1,) dtype=float32_ref>\n"
     ]
    }
   ],
   "source": [
    "w=tf.Variable(tf.random.normal([1]), name='weight')\n",
    "b=tf.Variable(tf.random.normal([1]), name='bias')\n",
    "print(\"w=\",w,\"b=\",b)"
   ]
  },
  {
   "cell_type": "code",
   "execution_count": 6,
   "id": "22b8582a-1510-41e1-be86-302f4c4fcb53",
   "metadata": {},
   "outputs": [],
   "source": [
    "y=x_data*w+b"
   ]
  },
  {
   "cell_type": "code",
   "execution_count": 7,
   "id": "f6de2fa0-7fb7-42de-9a2a-655cb07c98d2",
   "metadata": {},
   "outputs": [],
   "source": [
    "cost=tf.reduce_mean(tf.square(y-t_data))"
   ]
  },
  {
   "cell_type": "code",
   "execution_count": 10,
   "id": "8cc5d349-918e-4855-9d9f-2c1b90647d0a",
   "metadata": {},
   "outputs": [],
   "source": [
    "train=tf.train.GradientDescentOptimizer(learning_rate=0.01).minimize(cost)"
   ]
  },
  {
   "cell_type": "code",
   "execution_count": 11,
   "id": "0ba7b1f8-8d1a-4d53-b8e7-1d0cd680f239",
   "metadata": {},
   "outputs": [
    {
     "name": "stdout",
     "output_type": "stream",
     "text": [
      "0 11.72659 [0.8049774] [-1.0644361]\n",
      "200 0.16485164 [1.2627084] [0.0515394]\n",
      "400 0.042536832 [1.1334473] [0.518213]\n",
      "600 0.010975822 [1.0677868] [0.75526786]\n",
      "800 0.0028320907 [1.0344335] [0.87568414]\n",
      "1000 0.00073076633 [1.0174911] [0.9368517]\n",
      "1200 0.00018855717 [1.0088848] [0.967923]\n",
      "1400 4.8652928e-05 [1.0045131] [0.98370606]\n",
      "1600 1.2554138e-05 [1.0022926] [0.99172306]\n",
      "1800 3.240651e-06 [1.0011649] [0.9957947]\n",
      "2000 8.368479e-07 [1.000592] [0.9978631]\n",
      "2200 2.161559e-07 [1.0003008] [0.99891394]\n",
      "2400 5.588481e-08 [1.0001531] [0.99944776]\n",
      "2600 1.44876e-08 [1.000078] [0.99971884]\n",
      "2800 3.7714614e-09 [1.0000398] [0.9998566]\n",
      "3000 9.665115e-10 [1.0000201] [0.9999273]\n",
      "3200 2.6036345e-10 [1.0000105] [0.9999623]\n",
      "3400 8.098837e-11 [1.000006] [0.9999789]\n",
      "3600 2.8351366e-11 [1.0000036] [0.9999878]\n",
      "3800 2.8351366e-11 [1.0000036] [0.9999878]\n",
      "4000 2.8351366e-11 [1.0000036] [0.9999878]\n",
      "4200 2.8351366e-11 [1.0000036] [0.9999878]\n",
      "4400 2.8351366e-11 [1.0000036] [0.9999878]\n",
      "4600 2.8351366e-11 [1.0000036] [0.9999878]\n",
      "4800 2.8351366e-11 [1.0000036] [0.9999878]\n",
      "5000 2.8351366e-11 [1.0000036] [0.9999878]\n",
      "5200 2.8351366e-11 [1.0000036] [0.9999878]\n",
      "5400 2.8351366e-11 [1.0000036] [0.9999878]\n",
      "5600 2.8351366e-11 [1.0000036] [0.9999878]\n",
      "5800 2.8351366e-11 [1.0000036] [0.9999878]\n",
      "6000 2.8351366e-11 [1.0000036] [0.9999878]\n",
      "6200 2.8351366e-11 [1.0000036] [0.9999878]\n",
      "6400 2.8351366e-11 [1.0000036] [0.9999878]\n",
      "6600 2.8351366e-11 [1.0000036] [0.9999878]\n",
      "6800 2.8351366e-11 [1.0000036] [0.9999878]\n",
      "7000 2.8351366e-11 [1.0000036] [0.9999878]\n",
      "7200 2.8351366e-11 [1.0000036] [0.9999878]\n",
      "7400 2.8351366e-11 [1.0000036] [0.9999878]\n",
      "7600 2.8351366e-11 [1.0000036] [0.9999878]\n",
      "7800 2.8351366e-11 [1.0000036] [0.9999878]\n",
      "8000 2.8351366e-11 [1.0000036] [0.9999878]\n"
     ]
    }
   ],
   "source": [
    "with tf.Session() as sess:\n",
    "    sess.run(tf.global_variables_initializer())\n",
    "    \n",
    "    for step in range(8001):\n",
    "        _,cost_val, w_val, b_val=sess.run([train, cost, w, b])\n",
    "        \n",
    "        if step % 200==0:\n",
    "            print(step, cost_val, w_val, b_val)"
   ]
  },
  {
   "cell_type": "code",
   "execution_count": null,
   "id": "7557ba71-611d-485e-9b39-9af67ae0f4c2",
   "metadata": {},
   "outputs": [],
   "source": []
  }
 ],
 "metadata": {
  "kernelspec": {
   "display_name": "Python 3",
   "language": "python",
   "name": "python3"
  },
  "language_info": {
   "codemirror_mode": {
    "name": "ipython",
    "version": 3
   },
   "file_extension": ".py",
   "mimetype": "text/x-python",
   "name": "python",
   "nbconvert_exporter": "python",
   "pygments_lexer": "ipython3",
   "version": "3.8.8"
  }
 },
 "nbformat": 4,
 "nbformat_minor": 5
}
