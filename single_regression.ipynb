{
 "cells": [
  {
   "cell_type": "code",
   "execution_count": 1,
   "id": "895bbf21-3c5b-48a1-b644-cb72fbd8ac4c",
   "metadata": {},
   "outputs": [],
   "source": [
    "import numpy as np"
   ]
  },
  {
   "cell_type": "code",
   "execution_count": 21,
   "id": "4f2e26bc-5279-4019-82ae-e53484a3ea1f",
   "metadata": {},
   "outputs": [],
   "source": [
    "x_data=np.array([1,2,3,4,5]).reshape(5,1)\n",
    "t_data=np.array([11,21,31,41,51]).reshape(5,1) # y=10x+1, w=1, b=2"
   ]
  },
  {
   "cell_type": "code",
   "execution_count": 22,
   "id": "9f701fdc-4af7-4c96-b3eb-a77cf2232cf0",
   "metadata": {},
   "outputs": [
    {
     "name": "stdout",
     "output_type": "stream",
     "text": [
      "[[0.29427183]] [0.53388345]\n"
     ]
    }
   ],
   "source": [
    "w=np.random.rand(1,1)\n",
    "b=np.random.rand(1)\n",
    "print(w,b)"
   ]
  },
  {
   "cell_type": "code",
   "execution_count": 4,
   "id": "32a757c9-0794-4b84-97ae-e19b4de611f8",
   "metadata": {},
   "outputs": [],
   "source": [
    "def loss_func(x,t):\n",
    "    y=np.dot(x,w)+b\n",
    "    return (np.sum((t-y)**2))/len(x)"
   ]
  },
  {
   "cell_type": "code",
   "execution_count": 5,
   "id": "8b5fde0c-bcdd-4011-bce4-2a476b78c849",
   "metadata": {
    "tags": []
   },
   "outputs": [],
   "source": [
    "def numerical_derivative(f,x):\n",
    "    delta_x= 1e-4\n",
    "    grad = np.zeros_like(x)\n",
    "    \n",
    "#     print(\"debug 1. initial input variable =\", x)\n",
    "#     print(\"debug 2. initial grad =\", grad)\n",
    "#     print(\"=====================================\")\n",
    "    \n",
    "    it = np.nditer(x, flags=['multi_index'], op_flags=['readwrite'])\n",
    "    \n",
    "    while not it.finished:\n",
    "        idx=it.multi_index\n",
    "        \n",
    "#         print(\"debug 3. idx=\", idx, \", x[idx]=\", x[idx])\n",
    "        \n",
    "        tmp_val = x[idx]\n",
    "        x[idx] = float(tmp_val) + delta_x\n",
    "        fx1 = f(x) #f(x+delta_x)\n",
    "        \n",
    "        x[idx] = float(tmp_val) - delta_x\n",
    "        fx2 = f(x) #f(x-delta_X)\n",
    "        grad[idx] = (fx1 - fx2) / (2*delta_x)\n",
    "        \n",
    "#         print(\"debug 4. grad[idx]=\", grad[idx])\n",
    "#         print(\"debug 5. grad =\", grad)\n",
    "#         print(\"=====================================\")\n",
    "        \n",
    "        x[idx] = tmp_val\n",
    "        it.iternext()\n",
    "        \n",
    "    return grad"
   ]
  },
  {
   "cell_type": "code",
   "execution_count": 6,
   "id": "9e33816b-6842-41d0-b671-eb6e03cc539d",
   "metadata": {},
   "outputs": [],
   "source": [
    "def predict(x):\n",
    "    y=np.dot(x,w)+b\n",
    "    return y"
   ]
  },
  {
   "cell_type": "code",
   "execution_count": 23,
   "id": "2512b105-371e-4507-9ddf-fbd2d01de236",
   "metadata": {},
   "outputs": [
    {
     "name": "stdout",
     "output_type": "stream",
     "text": [
      "Initial error value: 1063.57401951824 Initial w= [[0.29427183]] Initial b= [0.53388345]\n",
      "step= 0 error value= 625.9746183916644 w= [[2.45749902]] b= [0.99575584]\n",
      "step= 400 error value= 0.02732501923494336 w= [[9.8926562]] b= [1.38745033]\n",
      "step= 800 error value= 0.0017434977719604197 w= [[9.97288514]] b= [1.0978693]\n",
      "step= 1200 error value= 0.00011124546536249703 w= [[9.99315083]] b= [1.02472162]\n",
      "step= 1600 error value= 7.098118370298166e-06 w= [[9.99826991]] b= [1.00624464]\n",
      "step= 2000 error value= 4.5290191590615193e-07 w= [[9.99956298]] b= [1.00157739]\n",
      "step= 2400 error value= 2.889781977762729e-08 w= [[9.99988961]] b= [1.00039844]\n",
      "step= 2800 error value= 1.843851744920449e-09 w= [[9.99997212]] b= [1.00010065]\n",
      "step= 3200 error value= 1.1764864213079e-10 w= [[9.99999296]] b= [1.00002542]\n",
      "step= 3600 error value= 7.506678904126982e-12 w= [[9.99999822]] b= [1.00000642]\n",
      "step= 4000 error value= 4.789704910640802e-13 w= [[9.99999955]] b= [1.00000162]\n",
      "step= 4400 error value= 3.056114839768796e-14 w= [[9.99999989]] b= [1.00000041]\n",
      "step= 4800 error value= 1.9499820665687842e-15 w= [[9.99999997]] b= [1.0000001]\n",
      "step= 5200 error value= 1.2442038584758072e-16 w= [[9.99999999]] b= [1.00000003]\n",
      "step= 5600 error value= 7.938740952537037e-18 w= [[10.]] b= [1.00000001]\n",
      "step= 6000 error value= 5.065414415634658e-19 w= [[10.]] b= [1.]\n",
      "step= 6400 error value= 3.232023055171794e-20 w= [[10.]] b= [1.]\n",
      "step= 6800 error value= 2.062167005584467e-21 w= [[10.]] b= [1.]\n",
      "step= 7200 error value= 1.317058690856462e-22 w= [[10.]] b= [1.]\n",
      "step= 7600 error value= 8.421252984125139e-24 w= [[10.]] b= [1.]\n",
      "step= 8000 error value= 5.4555663830040225e-25 w= [[10.]] b= [1.]\n",
      "step= 8400 error value= 3.656528067880434e-26 w= [[10.]] b= [1.]\n",
      "step= 8800 error value= 3.9083324688269806e-27 w= [[10.]] b= [1.]\n",
      "step= 9200 error value= 1.751902298314823e-27 w= [[10.]] b= [1.]\n",
      "step= 9600 error value= 1.751902298314823e-27 w= [[10.]] b= [1.]\n",
      "step= 10000 error value= 1.751902298314823e-27 w= [[10.]] b= [1.]\n"
     ]
    }
   ],
   "source": [
    "learning_rate=1e-2\n",
    "\n",
    "f=lambda x: loss_func(x_data, t_data)\n",
    "    \n",
    "print(\"Initial error value:\", loss_func(x_data, t_data), \"Initial w=\",w,\"Initial b=\",b)\n",
    "\n",
    "for step in range(10001):\n",
    "    w-=learning_rate * numerical_derivative(f,w)\n",
    "    b-=learning_rate * numerical_derivative(f,b)\n",
    "    \n",
    "    if step%400==0:\n",
    "        print(\"step=\", step, \"error value=\", loss_func(x_data, t_data), \"w=\",w,\"b=\",b)"
   ]
  },
  {
   "cell_type": "code",
   "execution_count": 12,
   "id": "5f16de53-014c-4314-8237-5872b712b275",
   "metadata": {},
   "outputs": [
    {
     "data": {
      "text/plain": [
       "array([[101.]])"
      ]
     },
     "execution_count": 12,
     "metadata": {},
     "output_type": "execute_result"
    }
   ],
   "source": [
    "predict(10) # y=10x+1"
   ]
  },
  {
   "cell_type": "code",
   "execution_count": null,
   "id": "3e647a9c-b721-4086-bbfb-16b840449834",
   "metadata": {},
   "outputs": [],
   "source": []
  }
 ],
 "metadata": {
  "kernelspec": {
   "display_name": "Python 3",
   "language": "python",
   "name": "python3"
  },
  "language_info": {
   "codemirror_mode": {
    "name": "ipython",
    "version": 3
   },
   "file_extension": ".py",
   "mimetype": "text/x-python",
   "name": "python",
   "nbconvert_exporter": "python",
   "pygments_lexer": "ipython3",
   "version": "3.8.8"
  }
 },
 "nbformat": 4,
 "nbformat_minor": 5
}
