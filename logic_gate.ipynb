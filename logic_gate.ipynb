{
 "cells": [
  {
   "cell_type": "code",
   "execution_count": 1,
   "id": "16d626fe-0749-4539-a3fb-a3a73eeb2759",
   "metadata": {},
   "outputs": [],
   "source": [
    "import numpy as np"
   ]
  },
  {
   "cell_type": "code",
   "execution_count": 2,
   "id": "36efcb50-18d7-4ef5-a5d4-5d535eadedf3",
   "metadata": {},
   "outputs": [],
   "source": [
    "def sigmoid(x):\n",
    "    return 1/(1+np.exp(-x))"
   ]
  },
  {
   "cell_type": "code",
   "execution_count": 3,
   "id": "72c2e9d1-8af8-465c-a63f-de967263e9bc",
   "metadata": {},
   "outputs": [],
   "source": [
    "def numerical_derivative(f,x):\n",
    "    delta_x= 1e-4\n",
    "    grad = np.zeros_like(x)\n",
    "    \n",
    "#     print(\"debug 1. initial input variable =\", x)\n",
    "#     print(\"debug 2. initial grad =\", grad)\n",
    "#     print(\"=====================================\")\n",
    "    \n",
    "    it = np.nditer(x, flags=['multi_index'], op_flags=['readwrite'])\n",
    "    \n",
    "    while not it.finished:\n",
    "        idx=it.multi_index\n",
    "        \n",
    "#         print(\"debug 3. idx=\", idx, \", x[idx]=\", x[idx])\n",
    "        \n",
    "        tmp_val = x[idx]\n",
    "        x[idx] = float(tmp_val) + delta_x\n",
    "        fx1 = f(x) #f(x+delta_x)\n",
    "        \n",
    "        x[idx] = float(tmp_val) - delta_x\n",
    "        fx2 = f(x) #f(x-delta_X)\n",
    "        grad[idx] = (fx1 - fx2) / (2*delta_x)\n",
    "        \n",
    "#         print(\"debug 4. grad[idx]=\", grad[idx])\n",
    "#         print(\"debug 5. grad =\", grad)\n",
    "#         print(\"=====================================\")\n",
    "        \n",
    "        x[idx] = tmp_val\n",
    "        it.iternext()\n",
    "        \n",
    "    return grad"
   ]
  },
  {
   "cell_type": "code",
   "execution_count": 4,
   "id": "5832f137-80d9-4640-97b8-45b2b86a286a",
   "metadata": {},
   "outputs": [],
   "source": [
    "class LogicGate():\n",
    "    def __init__(self, gate_name, xdata,tdata): # __xdata, __tdata, __w, __b 초기화\n",
    "        self.name=gate_name\n",
    "        self.__xdata=xdata.reshape(4,2) # __ = private(외부접근불가능)\n",
    "        self.__tdata=tdata.reshape(4,1)\n",
    "        \n",
    "        self.__w=np.random.rand(2,1)\n",
    "        self.__b=np.random.rand(1)\n",
    "        \n",
    "        self.__learning_rate = 1e-2\n",
    "        \n",
    "    # 손실함수\n",
    "    def __loss_func(self):\n",
    "        delta = 1e-7  # log 무한대 발산방지\n",
    "        \n",
    "        z=np.dot(self.__xdata, self.__w)+self.__b\n",
    "        y=sigmoid(z)\n",
    "        \n",
    "        return -np.sum(self.__tdata*np.log(y+delta)+(1-self.__tdata)*np.log((1-y)+delta))\n",
    "    \n",
    "    def train(self):\n",
    "        f=lambda x: self.__loss_func()\n",
    "        print(\"Initial error value:\", self.__loss_func())\n",
    "\n",
    "        for step in range(20001):\n",
    "            self.__w-=self.__learning_rate * numerical_derivative(f,self.__w)\n",
    "            self.__b-=self.__learning_rate * numerical_derivative(f,self.__b)\n",
    "\n",
    "            if step%400==0:\n",
    "                print(\"step=\", step, \"error value=\", self.__loss_func())\n",
    "                \n",
    "    def predict(self, input_data):\n",
    "        z=np.dot(input_data,self.__w)+self.__b\n",
    "        y=sigmoid(z)\n",
    "\n",
    "        if y>0.5:\n",
    "            result=1\n",
    "        else:\n",
    "            result=0\n",
    "        return y, result\n",
    "    "
   ]
  },
  {
   "cell_type": "code",
   "execution_count": 5,
   "id": "492039a8-a0eb-438a-9037-8c34b600b4c7",
   "metadata": {},
   "outputs": [],
   "source": [
    "xdata=np.array([[0,0],[0,1],[1,0],[1,1]])\n",
    "tdata=np.array([0,0,0,1])"
   ]
  },
  {
   "cell_type": "code",
   "execution_count": 6,
   "id": "1a6de122-b621-4e98-9a97-6fce57d633ff",
   "metadata": {
    "tags": []
   },
   "outputs": [
    {
     "name": "stdout",
     "output_type": "stream",
     "text": [
      "Initial error value: 4.084627500134108\n",
      "step= 0 error value= 4.034869372217821\n",
      "step= 400 error value= 1.4925081204635682\n",
      "step= 800 error value= 1.119613301505278\n",
      "step= 1200 error value= 0.9043026873578602\n",
      "step= 1600 error value= 0.7608633543363492\n",
      "step= 2000 error value= 0.6572053931875035\n",
      "step= 2400 error value= 0.5783327471665166\n",
      "step= 2800 error value= 0.5161368257589088\n",
      "step= 3200 error value= 0.46577714943435977\n",
      "step= 3600 error value= 0.42415421057260094\n",
      "step= 4000 error value= 0.3891776074717872\n",
      "step= 4400 error value= 0.3593801686241232\n",
      "step= 4800 error value= 0.3336990318646075\n",
      "step= 5200 error value= 0.311344089122869\n",
      "step= 5600 error value= 0.29171519941342894\n",
      "step= 6000 error value= 0.2743480880494852\n",
      "step= 6400 error value= 0.25887786320508993\n",
      "step= 6800 error value= 0.245013749374935\n",
      "step= 7200 error value= 0.23252118447360606\n",
      "step= 7600 error value= 0.22120887977084663\n",
      "step= 8000 error value= 0.21091930193339747\n",
      "step= 8400 error value= 0.20152156262903492\n",
      "step= 8800 error value= 0.19290603235531686\n",
      "step= 9200 error value= 0.18498020892049505\n",
      "step= 9600 error value= 0.17766551206787123\n",
      "step= 10000 error value= 0.17089477068996076\n",
      "step= 10400 error value= 0.16461023414629739\n",
      "step= 10800 error value= 0.15876198451320017\n",
      "step= 11200 error value= 0.15330665861895043\n",
      "step= 11600 error value= 0.14820641165762338\n",
      "step= 12000 error value= 0.1434280708112411\n",
      "step= 12400 error value= 0.13894243951328122\n",
      "step= 12800 error value= 0.13472372203365945\n",
      "step= 13200 error value= 0.13074904483837446\n",
      "step= 13600 error value= 0.12699805629428773\n",
      "step= 14000 error value= 0.12345259018951849\n",
      "step= 14400 error value= 0.120096381535537\n",
      "step= 14800 error value= 0.11691482543596267\n",
      "step= 15200 error value= 0.11389477161486572\n",
      "step= 15600 error value= 0.11102434861574453\n",
      "step= 16000 error value= 0.10829281280310299\n",
      "step= 16400 error value= 0.10569041818862879\n",
      "step= 16800 error value= 0.10320830381554624\n",
      "step= 17200 error value= 0.10083839600619024\n",
      "step= 17600 error value= 0.0985733232396257\n",
      "step= 18000 error value= 0.09640634180069331\n",
      "step= 18400 error value= 0.09433127064742966\n",
      "step= 18800 error value= 0.09234243419397109\n",
      "step= 19200 error value= 0.09043461191203175\n",
      "step= 19600 error value= 0.08860299382389544\n",
      "step= 20000 error value= 0.08684314110091683\n"
     ]
    }
   ],
   "source": [
    "and_obj=LogicGate(\"AND_GATE\",xdata,tdata)\n",
    "and_obj.train()"
   ]
  },
  {
   "cell_type": "code",
   "execution_count": 7,
   "id": "1b9a6951-5c9e-4364-beb4-9cd80315b415",
   "metadata": {},
   "outputs": [
    {
     "name": "stdout",
     "output_type": "stream",
     "text": [
      "AND_GATE\n",
      "[0 0] = 0\n",
      "[0 1] = 0\n",
      "[1 0] = 0\n",
      "[1 1] = 1\n"
     ]
    }
   ],
   "source": [
    "print(and_obj.name)\n",
    "test_data=np.array([[0,0],[0,1],[1,0],[1,1]])\n",
    "\n",
    "for input_data in test_data:\n",
    "    (real_val, logical_val)=and_obj.predict(input_data)\n",
    "    print(input_data,\"=\",logical_val)"
   ]
  },
  {
   "cell_type": "code",
   "execution_count": 8,
   "id": "490a9b55-f52b-4fdd-979b-7f2507f869c9",
   "metadata": {},
   "outputs": [],
   "source": [
    "xdata=np.array([[0,0],[0,1],[1,0],[1,1]])\n",
    "tdata=np.array([0,1,1,1])"
   ]
  },
  {
   "cell_type": "code",
   "execution_count": 9,
   "id": "ec479b78-63b3-4f57-a886-e9d8b8de19d3",
   "metadata": {},
   "outputs": [
    {
     "name": "stdout",
     "output_type": "stream",
     "text": [
      "Initial error value: 1.9651771119139594\n",
      "step= 0 error value= 1.9611616717162044\n",
      "step= 400 error value= 1.1963340163296101\n",
      "step= 800 error value= 0.8509940340825753\n",
      "step= 1200 error value= 0.6535074307488707\n",
      "step= 1600 error value= 0.5270269335901081\n",
      "step= 2000 error value= 0.4396624578426459\n",
      "step= 2400 error value= 0.37601637071278565\n",
      "step= 2800 error value= 0.32776918879965583\n",
      "step= 3200 error value= 0.29004584363195457\n",
      "step= 3600 error value= 0.25980954272014356\n",
      "step= 4000 error value= 0.2350755691896871\n",
      "step= 4400 error value= 0.21449532989320766\n",
      "step= 4800 error value= 0.19712239408273394\n",
      "step= 5200 error value= 0.18227418649932856\n",
      "step= 5600 error value= 0.16944677094639288\n",
      "step= 6000 error value= 0.158260467867253\n",
      "step= 6400 error value= 0.14842408305243773\n",
      "step= 6800 error value= 0.1397107492700515\n",
      "step= 7200 error value= 0.13194122731280025\n",
      "step= 7600 error value= 0.12497212263487029\n",
      "step= 8000 error value= 0.11868741578474962\n",
      "step= 8400 error value= 0.11299227279363752\n",
      "step= 8800 error value= 0.10780845330135685\n",
      "step= 9200 error value= 0.10307085713752431\n",
      "step= 9600 error value= 0.09872489449621259\n",
      "step= 10000 error value= 0.09472446024644915\n",
      "step= 10400 error value= 0.09103035708014098\n",
      "step= 10800 error value= 0.08760905605769956\n",
      "step= 11200 error value= 0.084431713548838\n",
      "step= 11600 error value= 0.08147338498411638\n",
      "step= 12000 error value= 0.07871239110051659\n",
      "step= 12400 error value= 0.07612980337913601\n",
      "step= 12800 error value= 0.07370902340819983\n",
      "step= 13200 error value= 0.07143543682821688\n",
      "step= 13600 error value= 0.06929612692580946\n",
      "step= 14000 error value= 0.06727963625508983\n",
      "step= 14400 error value= 0.0653757671762648\n",
      "step= 14800 error value= 0.06357541411841529\n",
      "step= 15200 error value= 0.06187042184989559\n",
      "step= 15600 error value= 0.06025346518441079\n",
      "step= 16000 error value= 0.05871794644452397\n",
      "step= 16400 error value= 0.057257907706705\n",
      "step= 16800 error value= 0.05586795540720554\n",
      "step= 17200 error value= 0.054543195329647354\n",
      "step= 17600 error value= 0.05327917634850032\n",
      "step= 18000 error value= 0.052071841586570786\n",
      "step= 18400 error value= 0.05091748587395257\n",
      "step= 18800 error value= 0.04981271858239433\n",
      "step= 19200 error value= 0.048754431061005944\n",
      "step= 19600 error value= 0.04773976802373475\n",
      "step= 20000 error value= 0.04676610234160611\n"
     ]
    }
   ],
   "source": [
    "or_obj=LogicGate(\"OR_GATE\",xdata,tdata)\n",
    "or_obj.train()"
   ]
  },
  {
   "cell_type": "code",
   "execution_count": 10,
   "id": "d6e31949-48b0-4aa2-b9bd-e26570060ab0",
   "metadata": {},
   "outputs": [
    {
     "name": "stdout",
     "output_type": "stream",
     "text": [
      "OR_GATE\n",
      "[0 0] = 0\n",
      "[0 1] = 1\n",
      "[1 0] = 1\n",
      "[1 1] = 1\n"
     ]
    }
   ],
   "source": [
    "print(or_obj.name)\n",
    "test_data=np.array([[0,0],[0,1],[1,0],[1,1]])\n",
    "\n",
    "for input_data in test_data:\n",
    "    (real_val, logical_val)=or_obj.predict(input_data)\n",
    "    print(input_data,\"=\",logical_val)"
   ]
  },
  {
   "cell_type": "code",
   "execution_count": 11,
   "id": "a07213c4-b132-4623-a78a-494f1277fe1b",
   "metadata": {},
   "outputs": [],
   "source": [
    "xdata=np.array([[0,0],[0,1],[1,0],[1,1]])\n",
    "tdata=np.array([1,1,1,0])"
   ]
  },
  {
   "cell_type": "code",
   "execution_count": 12,
   "id": "f5a49a9c-93e4-4995-bc07-cb1d73917f50",
   "metadata": {},
   "outputs": [
    {
     "name": "stdout",
     "output_type": "stream",
     "text": [
      "Initial error value: 2.8043916346904183\n",
      "step= 0 error value= 2.7981857699930277\n",
      "step= 400 error value= 1.6257850876816669\n",
      "step= 800 error value= 1.1849820158258768\n",
      "step= 1200 error value= 0.9444040339259274\n",
      "step= 1600 error value= 0.7885522465740025\n",
      "step= 2000 error value= 0.6776811408643285\n",
      "step= 2400 error value= 0.5941629847319835\n",
      "step= 2800 error value= 0.5287669802828532\n",
      "step= 3200 error value= 0.47609627223932605\n",
      "step= 3600 error value= 0.4327446221296935\n",
      "step= 4000 error value= 0.3964389902673975\n",
      "step= 4400 error value= 0.36559697653839573\n",
      "step= 4800 error value= 0.3390796754197485\n",
      "step= 5200 error value= 0.31604495645346287\n",
      "step= 5600 error value= 0.29585602317130405\n",
      "step= 6000 error value= 0.2780221265017066\n",
      "step= 6400 error value= 0.2621588462248466\n",
      "step= 6800 error value= 0.24796073699102844\n",
      "step= 7200 error value= 0.23518203926292877\n",
      "step= 7600 error value= 0.22362279569151255\n",
      "step= 8000 error value= 0.21311867683853625\n",
      "step= 8400 error value= 0.20353340547245016\n",
      "step= 8800 error value= 0.194753034866207\n",
      "step= 9200 error value= 0.1866815716201328\n",
      "step= 9600 error value= 0.1792375879404837\n",
      "step= 10000 error value= 0.17235157180267469\n",
      "step= 10400 error value= 0.16596383408009846\n",
      "step= 10800 error value= 0.16002284075375048\n",
      "step= 11200 error value= 0.15448387286235604\n",
      "step= 11600 error value= 0.1493079415263205\n",
      "step= 12000 error value= 0.1444609032247629\n",
      "step= 12400 error value= 0.1399127335639616\n",
      "step= 12800 error value= 0.13563692743429087\n",
      "step= 13200 error value= 0.1316100006689373\n",
      "step= 13600 error value= 0.12781107375893996\n",
      "step= 14000 error value= 0.12422152231789846\n",
      "step= 14400 error value= 0.12082468216398898\n",
      "step= 14800 error value= 0.11760559933921558\n",
      "step= 15200 error value= 0.11455081729550246\n",
      "step= 15600 error value= 0.11164819497286543\n",
      "step= 16000 error value= 0.10888675067514317\n",
      "step= 16400 error value= 0.10625652758503511\n",
      "step= 16800 error value= 0.10374847750755864\n",
      "step= 17200 error value= 0.10135436003077483\n",
      "step= 17600 error value= 0.09906665477641276\n",
      "step= 18000 error value= 0.09687848480533554\n",
      "step= 18400 error value= 0.09478354956224326\n",
      "step= 18800 error value= 0.09277606600547275\n",
      "step= 19200 error value= 0.090850716782688\n",
      "step= 19600 error value= 0.08900260449042406\n",
      "step= 20000 error value= 0.08722721120251294\n"
     ]
    }
   ],
   "source": [
    "nand_obj=LogicGate(\"NAND_GATE\",xdata,tdata)\n",
    "nand_obj.train()"
   ]
  },
  {
   "cell_type": "code",
   "execution_count": 13,
   "id": "2d986bc6-1d5a-48b3-b6a9-6d044ed39231",
   "metadata": {},
   "outputs": [
    {
     "name": "stdout",
     "output_type": "stream",
     "text": [
      "NAND_GATE\n",
      "[0 0] = 1\n",
      "[0 1] = 1\n",
      "[1 0] = 1\n",
      "[1 1] = 0\n"
     ]
    }
   ],
   "source": [
    "print(nand_obj.name)\n",
    "test_data=np.array([[0,0],[0,1],[1,0],[1,1]])\n",
    "\n",
    "for input_data in test_data:\n",
    "    (real_val, logical_val)=nand_obj.predict(input_data)\n",
    "    print(input_data,\"=\",logical_val)"
   ]
  },
  {
   "cell_type": "code",
   "execution_count": 14,
   "id": "8aa9cb94-88dd-40dd-abdc-e65bc3cf4b6e",
   "metadata": {},
   "outputs": [],
   "source": [
    "xdata=np.array([[0,0],[0,1],[1,0],[1,1]])\n",
    "tdata=np.array([0,1,1,0])"
   ]
  },
  {
   "cell_type": "code",
   "execution_count": 15,
   "id": "a2ae77fa-f33f-41d9-a54f-8b63ee6ea453",
   "metadata": {},
   "outputs": [
    {
     "name": "stdout",
     "output_type": "stream",
     "text": [
      "Initial error value: 3.5601770784074103\n",
      "step= 0 error value= 3.540453798254768\n",
      "step= 400 error value= 2.773816860464014\n",
      "step= 800 error value= 2.77277824462367\n",
      "step= 1200 error value= 2.7726206178308543\n",
      "step= 1600 error value= 2.772594320400687\n",
      "step= 2000 error value= 2.7725893483751056\n",
      "step= 2400 error value= 2.772588274161068\n",
      "step= 2800 error value= 2.7725880149248727\n",
      "step= 3200 error value= 2.77258794755614\n",
      "step= 3600 error value= 2.7725879292864435\n",
      "step= 4000 error value= 2.7725879242196565\n",
      "step= 4400 error value= 2.772587922798636\n",
      "step= 4800 error value= 2.772587922397914\n",
      "step= 5200 error value= 2.772587922284614\n",
      "step= 5600 error value= 2.77258792225254\n",
      "step= 6000 error value= 2.7725879222434537\n",
      "step= 6400 error value= 2.7725879222408802\n",
      "step= 6800 error value= 2.7725879222401497\n",
      "step= 7200 error value= 2.7725879222399437\n",
      "step= 7600 error value= 2.7725879222398846\n",
      "step= 8000 error value= 2.7725879222398686\n",
      "step= 8400 error value= 2.7725879222398637\n",
      "step= 8800 error value= 2.7725879222398624\n",
      "step= 9200 error value= 2.772587922239862\n",
      "step= 9600 error value= 2.772587922239862\n",
      "step= 10000 error value= 2.772587922239862\n",
      "step= 10400 error value= 2.7725879222398615\n",
      "step= 10800 error value= 2.772587922239862\n",
      "step= 11200 error value= 2.772587922239862\n",
      "step= 11600 error value= 2.772587922239862\n",
      "step= 12000 error value= 2.772587922239862\n",
      "step= 12400 error value= 2.7725879222398615\n",
      "step= 12800 error value= 2.7725879222398615\n",
      "step= 13200 error value= 2.7725879222398615\n",
      "step= 13600 error value= 2.7725879222398615\n",
      "step= 14000 error value= 2.7725879222398615\n",
      "step= 14400 error value= 2.7725879222398615\n",
      "step= 14800 error value= 2.7725879222398615\n",
      "step= 15200 error value= 2.7725879222398615\n",
      "step= 15600 error value= 2.7725879222398615\n",
      "step= 16000 error value= 2.7725879222398615\n",
      "step= 16400 error value= 2.7725879222398615\n",
      "step= 16800 error value= 2.7725879222398615\n",
      "step= 17200 error value= 2.7725879222398615\n",
      "step= 17600 error value= 2.7725879222398615\n",
      "step= 18000 error value= 2.7725879222398615\n",
      "step= 18400 error value= 2.7725879222398615\n",
      "step= 18800 error value= 2.7725879222398615\n",
      "step= 19200 error value= 2.7725879222398615\n",
      "step= 19600 error value= 2.7725879222398615\n",
      "step= 20000 error value= 2.7725879222398615\n"
     ]
    }
   ],
   "source": [
    "xor_obj=LogicGate(\"XOR_GATE\",xdata,tdata)\n",
    "xor_obj.train()"
   ]
  },
  {
   "cell_type": "code",
   "execution_count": 16,
   "id": "e4765a9f-710b-41be-b9d8-dd7683a55286",
   "metadata": {},
   "outputs": [
    {
     "name": "stdout",
     "output_type": "stream",
     "text": [
      "XOR_GATE\n",
      "[0 0] = 1\n",
      "[0 1] = 0\n",
      "[1 0] = 1\n",
      "[1 1] = 0\n"
     ]
    }
   ],
   "source": [
    "print(xor_obj.name)\n",
    "test_data=np.array([[0,0],[0,1],[1,0],[1,1]])\n",
    "\n",
    "for input_data in test_data:\n",
    "    (real_val, logical_val)=xor_obj.predict(input_data)\n",
    "    print(input_data,\"=\",logical_val)"
   ]
  },
  {
   "cell_type": "code",
   "execution_count": 21,
   "id": "f94f4217-4ee0-4d64-8f8e-c84e78c94041",
   "metadata": {},
   "outputs": [
    {
     "name": "stdout",
     "output_type": "stream",
     "text": [
      "[0 0] = 0\n",
      "\n",
      "[0 1] = 1\n",
      "\n",
      "[1 0] = 1\n",
      "\n",
      "[1 1] = 0\n",
      "\n"
     ]
    }
   ],
   "source": [
    "input_data = np.array([[0,0],[0,1],[1,0],[1,1]])\n",
    "\n",
    "s1=[]\n",
    "s2=[]\n",
    "\n",
    "new_input_data=[]\n",
    "final_output=[]\n",
    "\n",
    "for index in range(len(input_data)):\n",
    "    \n",
    "    s1 = nand_obj.predict(input_data[index])\n",
    "    s2 = or_obj.predict(input_data[index])\n",
    "    \n",
    "    new_input_data.append(s1[-1])\n",
    "    new_input_data.append(s2[-1])\n",
    "    # print(new_input_data)\n",
    "    \n",
    "    (sigmoid_val, logical_val) = and_obj.predict(np.array(new_input_data))\n",
    "    final_output.append(logical_val)\n",
    "    new_input_data=[]\n",
    "\n",
    "for index in range(len(input_data)):\n",
    "    print(input_data[index],\"=\",final_output[index], end='')\n",
    "    print(\"\\n\")"
   ]
  },
  {
   "cell_type": "code",
   "execution_count": null,
   "id": "d0c671ae-85db-445b-920e-e0b8872bb051",
   "metadata": {},
   "outputs": [],
   "source": []
  }
 ],
 "metadata": {
  "kernelspec": {
   "display_name": "Python 3",
   "language": "python",
   "name": "python3"
  },
  "language_info": {
   "codemirror_mode": {
    "name": "ipython",
    "version": 3
   },
   "file_extension": ".py",
   "mimetype": "text/x-python",
   "name": "python",
   "nbconvert_exporter": "python",
   "pygments_lexer": "ipython3",
   "version": "3.8.8"
  }
 },
 "nbformat": 4,
 "nbformat_minor": 5
}
