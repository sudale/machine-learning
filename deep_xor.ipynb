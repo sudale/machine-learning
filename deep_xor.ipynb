{
 "cells": [
  {
   "cell_type": "code",
   "execution_count": 1,
   "id": "1a2e9fbf-f274-4d5b-96e6-7a4869971ace",
   "metadata": {},
   "outputs": [],
   "source": [
    "import numpy as np"
   ]
  },
  {
   "cell_type": "code",
   "execution_count": 2,
   "id": "94421ebc-82ef-4a89-a98b-ddd03db289e3",
   "metadata": {},
   "outputs": [],
   "source": [
    "def sigmoid(x):\n",
    "    return 1/(1+np.exp(-x))"
   ]
  },
  {
   "cell_type": "code",
   "execution_count": 3,
   "id": "411ed42e-ecf4-4883-ba39-f9a7cdc0f80f",
   "metadata": {},
   "outputs": [],
   "source": [
    "def numerical_derivative(f,x):\n",
    "    delta_x= 1e-4\n",
    "    grad = np.zeros_like(x)\n",
    "    \n",
    "#     print(\"debug 1. initial input variable =\", x)\n",
    "#     print(\"debug 2. initial grad =\", grad)\n",
    "#     print(\"=====================================\")\n",
    "    \n",
    "    it = np.nditer(x, flags=['multi_index'], op_flags=['readwrite'])\n",
    "    \n",
    "    while not it.finished:\n",
    "        idx=it.multi_index\n",
    "        \n",
    "#         print(\"debug 3. idx=\", idx, \", x[idx]=\", x[idx])\n",
    "        \n",
    "        tmp_val = x[idx]\n",
    "        x[idx] = float(tmp_val) + delta_x\n",
    "        fx1 = f(x) #f(x+delta_x)\n",
    "        \n",
    "        x[idx] = float(tmp_val) - delta_x\n",
    "        fx2 = f(x) #f(x-delta_X)\n",
    "        grad[idx] = (fx1 - fx2) / (2*delta_x)\n",
    "        \n",
    "#         print(\"debug 4. grad[idx]=\", grad[idx])\n",
    "#         print(\"debug 5. grad =\", grad)\n",
    "#         print(\"=====================================\")\n",
    "        \n",
    "        x[idx] = tmp_val\n",
    "        it.iternext()\n",
    "        \n",
    "    return grad"
   ]
  },
  {
   "cell_type": "code",
   "execution_count": 4,
   "id": "03162aeb-1622-4a39-98d8-c75a4827f731",
   "metadata": {},
   "outputs": [],
   "source": [
    "class LogicGate:\n",
    "    def __init__(self, gate_name, xdata, tdata):\n",
    "        self.name=gate_name\n",
    "        self.__xdata=xdata\n",
    "        self.__tdata=tdata\n",
    "        \n",
    "        self.__xdata=xdata.reshape(4,2)\n",
    "        self.__tdata=tdata.reshape(4,1)\n",
    "        \n",
    "        self.__w2=np.random.rand(2,6)\n",
    "        self.__b2=np.random.rand(1)\n",
    "        \n",
    "        self.__w3=np.random.rand(6,1)\n",
    "        self.__b3=np.random.rand(1)\n",
    "        \n",
    "        self.__learning_rate=1e-2\n",
    "        \n",
    "    def feed_forward(self):\n",
    "        delta=1e-7\n",
    "        \n",
    "        z2=np.dot(self.__xdata, self.__w2)+self.__b2\n",
    "        a2=sigmoid(z2)\n",
    "        \n",
    "        z3=np.dot(a2, self.__w3)+self.__b3\n",
    "        y=sigmoid(z3)\n",
    "        \n",
    "        return -np.sum(self.__tdata*np.log(y+delta)+(1-self.__tdata)*np.log((1-y)+delta))\n",
    "    \n",
    "    def train(self):\n",
    "        f=lambda x:self.feed_forward()\n",
    "        print(\"Initial loss func:\", self.feed_forward())\n",
    "        \n",
    "        for step in range(10001):\n",
    "            self.__w2-=self.__learning_rate*numerical_derivative(f, self.__w2)\n",
    "            self.__b2-=self.__learning_rate*numerical_derivative(f, self.__b2)\n",
    "            \n",
    "            self.__w3-=self.__learning_rate*numerical_derivative(f, self.__w3)\n",
    "            self.__b3-=self.__learning_rate*numerical_derivative(f, self.__b3)\n",
    "            \n",
    "            if step % 400==0:\n",
    "                print(\"step:\", step,\", loss value:\", self.feed_forward())\n",
    "                \n",
    "    def predict(self, xdata):\n",
    "        z2=np.dot(xdata, self.__w2)+self.__b2\n",
    "        a2=sigmoid(z2)\n",
    "        \n",
    "        z3=np.dot(a2, self.__w3)+self.__b3\n",
    "        y=sigmoid(z3)\n",
    "        \n",
    "        if y>=0.5:\n",
    "            result=1\n",
    "        else:\n",
    "            result=0\n",
    "        return y, result"
   ]
  },
  {
   "cell_type": "code",
   "execution_count": 5,
   "id": "02cbaa03-2b2c-4059-a0a2-d0bd95bba11c",
   "metadata": {
    "tags": []
   },
   "outputs": [
    {
     "name": "stdout",
     "output_type": "stream",
     "text": [
      "Initial loss func: 6.781571954730535\n",
      "step: 0 , loss value: 6.5309018972881185\n",
      "step: 400 , loss value: 2.2680933235850773\n",
      "step: 800 , loss value: 2.1423018764161608\n",
      "step: 1200 , loss value: 1.943555510362129\n",
      "step: 1600 , loss value: 1.717710579853129\n",
      "step: 2000 , loss value: 1.502486386859852\n",
      "step: 2400 , loss value: 1.2686696785851206\n",
      "step: 2800 , loss value: 1.0155020909819579\n",
      "step: 3200 , loss value: 0.7800658618433916\n",
      "step: 3600 , loss value: 0.5909992506212065\n",
      "step: 4000 , loss value: 0.4518912157990712\n",
      "step: 4400 , loss value: 0.35293455416044417\n",
      "step: 4800 , loss value: 0.28253680834386075\n",
      "step: 5200 , loss value: 0.23161693587091786\n",
      "step: 5600 , loss value: 0.19393618441191607\n",
      "step: 6000 , loss value: 0.16538038352443724\n",
      "step: 6400 , loss value: 0.1432458130802291\n",
      "step: 6800 , loss value: 0.1257330043793856\n",
      "step: 7200 , loss value: 0.11162109497160738\n",
      "step: 7600 , loss value: 0.10006399215055073\n",
      "step: 8000 , loss value: 0.09046276679121554\n",
      "step: 8400 , loss value: 0.08238480033558189\n",
      "step: 8800 , loss value: 0.07551166794925962\n",
      "step: 9200 , loss value: 0.06960489881049964\n",
      "step: 9600 , loss value: 0.064483042737716\n",
      "step: 10000 , loss value: 0.06000601847408109\n"
     ]
    }
   ],
   "source": [
    "xdata=np.array([[0,0],[0,1],[1,0],[1,1]])\n",
    "tdata=np.array([0,0,0,1])\n",
    "\n",
    "and_obj=LogicGate(\"AND_GATE\",xdata,tdata)\n",
    "and_obj.train()"
   ]
  },
  {
   "cell_type": "code",
   "execution_count": 6,
   "id": "aa624a94-9c51-4809-b1b7-49a763bb7d58",
   "metadata": {},
   "outputs": [
    {
     "name": "stdout",
     "output_type": "stream",
     "text": [
      "(array([0.00191996]), 0)\n",
      "(array([0.01798773]), 0)\n",
      "(array([0.01766052]), 0)\n",
      "(array([0.97812793]), 1)\n"
     ]
    }
   ],
   "source": [
    "test_data=np.array([[0,0],[0,1],[1,0],[1,1]])\n",
    "\n",
    "for data in test_data:\n",
    "    print(and_obj.predict(data))"
   ]
  },
  {
   "cell_type": "code",
   "execution_count": 7,
   "id": "747f4f60-6720-4366-a212-e3a1e044d62d",
   "metadata": {},
   "outputs": [
    {
     "name": "stdout",
     "output_type": "stream",
     "text": [
      "Initial loss func: 2.2188895243718774\n",
      "step: 0 , loss value: 2.2138529887536986\n",
      "step: 400 , loss value: 1.9089209114108492\n",
      "step: 800 , loss value: 1.5943877785359062\n",
      "step: 1200 , loss value: 1.2396197816912373\n",
      "step: 1600 , loss value: 0.9270203243633206\n",
      "step: 2000 , loss value: 0.6855058436527003\n",
      "step: 2400 , loss value: 0.5121658134120578\n",
      "step: 2800 , loss value: 0.3916409558460763\n",
      "step: 3200 , loss value: 0.30783207044756633\n",
      "step: 3600 , loss value: 0.24850176409784722\n",
      "step: 4000 , loss value: 0.20543574270977302\n",
      "step: 4400 , loss value: 0.17334256065343284\n",
      "step: 4800 , loss value: 0.14882322600557635\n",
      "step: 5200 , loss value: 0.1296629030517882\n",
      "step: 5600 , loss value: 0.11438735718647777\n",
      "step: 6000 , loss value: 0.10199213674461226\n",
      "step: 6400 , loss value: 0.09177684724022306\n",
      "step: 6800 , loss value: 0.0832422802758136\n",
      "step: 7200 , loss value: 0.07602531523096533\n",
      "step: 7600 , loss value: 0.06985685100244\n",
      "step: 8000 , loss value: 0.06453404253519103\n",
      "step: 8400 , loss value: 0.05990160224107661\n",
      "step: 8800 , loss value: 0.05583896240661257\n",
      "step: 9200 , loss value: 0.05225130165757051\n",
      "step: 9600 , loss value: 0.04906316664514292\n",
      "step: 10000 , loss value: 0.046213867507593195\n"
     ]
    }
   ],
   "source": [
    "xdata=np.array([[0,0],[0,1],[1,0],[1,1]])\n",
    "tdata=np.array([0,1,1,1])\n",
    "\n",
    "or_obj=LogicGate(\"OR_GATE\",xdata,tdata)\n",
    "or_obj.train()"
   ]
  },
  {
   "cell_type": "code",
   "execution_count": 8,
   "id": "cb9c2375-dc00-4f72-b03c-592fca77690d",
   "metadata": {},
   "outputs": [
    {
     "name": "stdout",
     "output_type": "stream",
     "text": [
      "(array([0.03009582]), 0)\n",
      "(array([0.99203564]), 1)\n",
      "(array([0.99245047]), 1)\n",
      "(array([0.99991814]), 1)\n"
     ]
    }
   ],
   "source": [
    "test_data=np.array([[0,0],[0,1],[1,0],[1,1]])\n",
    "\n",
    "for data in test_data:\n",
    "    print(or_obj.predict(data))"
   ]
  },
  {
   "cell_type": "code",
   "execution_count": 9,
   "id": "91ccb565-6f57-47c1-9de0-88efeab27d73",
   "metadata": {},
   "outputs": [
    {
     "name": "stdout",
     "output_type": "stream",
     "text": [
      "Initial loss func: 4.32404490365551\n",
      "step: 0 , loss value: 4.272613549512551\n",
      "step: 400 , loss value: 2.2310837965892163\n",
      "step: 800 , loss value: 2.0929675468281133\n",
      "step: 1200 , loss value: 1.8383652844454321\n",
      "step: 1600 , loss value: 1.6202652780508235\n",
      "step: 2000 , loss value: 1.433007573691139\n",
      "step: 2400 , loss value: 1.2383618353562487\n",
      "step: 2800 , loss value: 1.0300302498810119\n",
      "step: 3200 , loss value: 0.8278528127445685\n",
      "step: 3600 , loss value: 0.6549032734360445\n",
      "step: 4000 , loss value: 0.5198118389531454\n",
      "step: 4400 , loss value: 0.4187808922705537\n",
      "step: 4800 , loss value: 0.343936512376135\n",
      "step: 5200 , loss value: 0.2879994710355558\n",
      "step: 5600 , loss value: 0.24548492455167553\n",
      "step: 6000 , loss value: 0.21254395174527413\n",
      "step: 6400 , loss value: 0.18652895788089924\n",
      "step: 6800 , loss value: 0.16561439501608366\n",
      "step: 7200 , loss value: 0.14852603223028243\n",
      "step: 7600 , loss value: 0.1343598574910273\n",
      "step: 8000 , loss value: 0.12246317836035675\n",
      "step: 8400 , loss value: 0.1123564869018685\n",
      "step: 8800 , loss value: 0.1036816028699486\n",
      "step: 9200 , loss value: 0.09616677408198933\n",
      "step: 9600 , loss value: 0.08960282048873949\n",
      "step: 10000 , loss value: 0.08382656532825353\n"
     ]
    }
   ],
   "source": [
    "xdata=np.array([[0,0],[0,1],[1,0],[1,1]])\n",
    "tdata=np.array([1,1,1,0])\n",
    "\n",
    "nand_obj=LogicGate(\"NAND_GATE\",xdata,tdata)\n",
    "nand_obj.train()"
   ]
  },
  {
   "cell_type": "code",
   "execution_count": 10,
   "id": "6d6c81be-d85f-4593-83ba-20e54647a98b",
   "metadata": {},
   "outputs": [
    {
     "name": "stdout",
     "output_type": "stream",
     "text": [
      "(array([0.99656249]), 1)\n",
      "(array([0.98171725]), 1)\n",
      "(array([0.98171285]), 1)\n",
      "(array([0.04254368]), 0)\n"
     ]
    }
   ],
   "source": [
    "test_data=np.array([[0,0],[0,1],[1,0],[1,1]])\n",
    "\n",
    "for data in test_data:\n",
    "    print(nand_obj.predict(data))"
   ]
  },
  {
   "cell_type": "code",
   "execution_count": 11,
   "id": "c7952ebb-e22c-40c9-bf00-36cd1347df53",
   "metadata": {},
   "outputs": [
    {
     "name": "stdout",
     "output_type": "stream",
     "text": [
      "Initial loss func: 6.175264117920198\n",
      "step: 0 , loss value: 6.0435895078680915\n",
      "step: 400 , loss value: 2.7717036501479866\n",
      "step: 800 , loss value: 2.770552647704486\n",
      "step: 1200 , loss value: 2.7692245290917286\n",
      "step: 1600 , loss value: 2.767534749132144\n",
      "step: 2000 , loss value: 2.765244002329541\n",
      "step: 2400 , loss value: 2.7620107425556704\n",
      "step: 2800 , loss value: 2.75733076916758\n",
      "step: 3200 , loss value: 2.7504671020286957\n",
      "step: 3600 , loss value: 2.7403908209481638\n",
      "step: 4000 , loss value: 2.7257713407304895\n",
      "step: 4400 , loss value: 2.705034924522495\n",
      "step: 4800 , loss value: 2.676424035656629\n",
      "step: 5200 , loss value: 2.6379394250637977\n",
      "step: 5600 , loss value: 2.5872035015516404\n",
      "step: 6000 , loss value: 2.521507188253608\n",
      "step: 6400 , loss value: 2.4381893926928804\n",
      "step: 6800 , loss value: 2.3350803509588958\n",
      "step: 7200 , loss value: 2.2106745030731965\n",
      "step: 7600 , loss value: 2.064253698702043\n",
      "step: 8000 , loss value: 1.896471044434135\n",
      "step: 8400 , loss value: 1.7103122838183358\n",
      "step: 8800 , loss value: 1.511651924949389\n",
      "step: 9200 , loss value: 1.3088234687511264\n",
      "step: 9600 , loss value: 1.1115410899085942\n",
      "step: 10000 , loss value: 0.929635204702967\n"
     ]
    }
   ],
   "source": [
    "xdata=np.array([[0,0],[0,1],[1,0],[1,1]])\n",
    "tdata=np.array([0,1,1,0])\n",
    "\n",
    "xor_obj=LogicGate(\"XOR_GATE\",xdata,tdata)\n",
    "xor_obj.train()"
   ]
  },
  {
   "cell_type": "code",
   "execution_count": 13,
   "id": "f1978e49-8c57-494b-9427-c8c5d62b2b55",
   "metadata": {},
   "outputs": [
    {
     "name": "stdout",
     "output_type": "stream",
     "text": [
      "(array([0.13034435]), 0)\n",
      "(array([0.80130927]), 1)\n",
      "(array([0.79923095]), 1)\n",
      "(array([0.29132917]), 0)\n"
     ]
    }
   ],
   "source": [
    "test_data=np.array([[0,0],[0,1],[1,0],[1,1]])\n",
    "\n",
    "for data in test_data:\n",
    "    print(xor_obj.predict(data))"
   ]
  },
  {
   "cell_type": "code",
   "execution_count": null,
   "id": "aa3debb2-66a2-4bca-ab6c-45201318d130",
   "metadata": {},
   "outputs": [],
   "source": []
  }
 ],
 "metadata": {
  "kernelspec": {
   "display_name": "Python 3",
   "language": "python",
   "name": "python3"
  },
  "language_info": {
   "codemirror_mode": {
    "name": "ipython",
    "version": 3
   },
   "file_extension": ".py",
   "mimetype": "text/x-python",
   "name": "python",
   "nbconvert_exporter": "python",
   "pygments_lexer": "ipython3",
   "version": "3.8.8"
  }
 },
 "nbformat": 4,
 "nbformat_minor": 5
}
