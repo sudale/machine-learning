{
 "cells": [
  {
   "cell_type": "code",
   "execution_count": 1,
   "id": "f3feb702-c30f-47e6-bb5c-4da9e534e362",
   "metadata": {},
   "outputs": [],
   "source": [
    "import tensorflow as tf\n",
    "import numpy as np\n",
    "import pandas as pd\n",
    "import matplotlib.pyplot as plt\n",
    "from tensorflow.keras.layers import LSTM, Dense, Dropout\n",
    "from tensorflow.keras.models import Sequential"
   ]
  },
  {
   "cell_type": "code",
   "execution_count": 2,
   "id": "6402f289-a350-488e-b2ba-fe4361b069c5",
   "metadata": {},
   "outputs": [
    {
     "data": {
      "text/html": [
       "<div>\n",
       "<style scoped>\n",
       "    .dataframe tbody tr th:only-of-type {\n",
       "        vertical-align: middle;\n",
       "    }\n",
       "\n",
       "    .dataframe tbody tr th {\n",
       "        vertical-align: top;\n",
       "    }\n",
       "\n",
       "    .dataframe thead th {\n",
       "        text-align: right;\n",
       "    }\n",
       "</style>\n",
       "<table border=\"1\" class=\"dataframe\">\n",
       "  <thead>\n",
       "    <tr style=\"text-align: right;\">\n",
       "      <th></th>\n",
       "      <th>Date</th>\n",
       "      <th>Open</th>\n",
       "      <th>High</th>\n",
       "      <th>Low</th>\n",
       "      <th>Close</th>\n",
       "      <th>Adj Close</th>\n",
       "      <th>Volume</th>\n",
       "      <th>3MA</th>\n",
       "      <th>5MA</th>\n",
       "    </tr>\n",
       "  </thead>\n",
       "  <tbody>\n",
       "    <tr>\n",
       "      <th>0</th>\n",
       "      <td>2017-11-10</td>\n",
       "      <td>55800</td>\n",
       "      <td>56540</td>\n",
       "      <td>55780</td>\n",
       "      <td>56400</td>\n",
       "      <td>48500.83594</td>\n",
       "      <td>6748800</td>\n",
       "      <td>NaN</td>\n",
       "      <td>NaN</td>\n",
       "    </tr>\n",
       "    <tr>\n",
       "      <th>1</th>\n",
       "      <td>2017-11-13</td>\n",
       "      <td>56400</td>\n",
       "      <td>56800</td>\n",
       "      <td>56100</td>\n",
       "      <td>56380</td>\n",
       "      <td>48483.62891</td>\n",
       "      <td>8806650</td>\n",
       "      <td>NaN</td>\n",
       "      <td>NaN</td>\n",
       "    </tr>\n",
       "    <tr>\n",
       "      <th>2</th>\n",
       "      <td>2017-11-14</td>\n",
       "      <td>56380</td>\n",
       "      <td>56740</td>\n",
       "      <td>55920</td>\n",
       "      <td>55920</td>\n",
       "      <td>48088.05469</td>\n",
       "      <td>6725000</td>\n",
       "      <td>48357.50651</td>\n",
       "      <td>NaN</td>\n",
       "    </tr>\n",
       "    <tr>\n",
       "      <th>3</th>\n",
       "      <td>2017-11-15</td>\n",
       "      <td>55920</td>\n",
       "      <td>56320</td>\n",
       "      <td>55320</td>\n",
       "      <td>55340</td>\n",
       "      <td>47589.28516</td>\n",
       "      <td>8816950</td>\n",
       "      <td>48053.65625</td>\n",
       "      <td>NaN</td>\n",
       "    </tr>\n",
       "    <tr>\n",
       "      <th>4</th>\n",
       "      <td>2017-11-16</td>\n",
       "      <td>55440</td>\n",
       "      <td>56000</td>\n",
       "      <td>55400</td>\n",
       "      <td>55780</td>\n",
       "      <td>47967.66406</td>\n",
       "      <td>7640700</td>\n",
       "      <td>47881.66797</td>\n",
       "      <td>48125.89375</td>\n",
       "    </tr>\n",
       "  </tbody>\n",
       "</table>\n",
       "</div>"
      ],
      "text/plain": [
       "         Date   Open   High    Low  Close    Adj Close   Volume          3MA  \\\n",
       "0  2017-11-10  55800  56540  55780  56400  48500.83594  6748800          NaN   \n",
       "1  2017-11-13  56400  56800  56100  56380  48483.62891  8806650          NaN   \n",
       "2  2017-11-14  56380  56740  55920  55920  48088.05469  6725000  48357.50651   \n",
       "3  2017-11-15  55920  56320  55320  55340  47589.28516  8816950  48053.65625   \n",
       "4  2017-11-16  55440  56000  55400  55780  47967.66406  7640700  47881.66797   \n",
       "\n",
       "           5MA  \n",
       "0          NaN  \n",
       "1          NaN  \n",
       "2          NaN  \n",
       "3          NaN  \n",
       "4  48125.89375  "
      ]
     },
     "execution_count": 2,
     "metadata": {},
     "output_type": "execute_result"
    }
   ],
   "source": [
    "raw_df = pd.read_csv('data/005930.KS.csv')\n",
    "raw_df.head()"
   ]
  },
  {
   "cell_type": "code",
   "execution_count": 3,
   "id": "feaeed9f-d8c6-40cc-9c74-56c1a56516aa",
   "metadata": {},
   "outputs": [
    {
     "data": {
      "image/png": "[encoded data removed]",
      "text/plain": [
       "<Figure size 432x288 with 1 Axes>"
      ]
     },
     "metadata": {
      "needs_background": "light"
     },
     "output_type": "display_data"
    }
   ],
   "source": [
    "plt.title('SAMSUNG ELECTRONIC STOCK PRICE')\n",
    "plt.ylabel('price')\n",
    "plt.xlabel('period')\n",
    "plt.grid()\n",
    "\n",
    "plt.plot(raw_df['Adj Close'], label='Adj Close')\n",
    "\n",
    "plt.show()"
   ]
  },
  {
   "cell_type": "code",
   "execution_count": 4,
   "id": "cc49d862-1286-440f-a9d5-4ff377328b97",
   "metadata": {},
   "outputs": [
    {
     "data": {
      "text/html": [
       "<div>\n",
       "<style scoped>\n",
       "    .dataframe tbody tr th:only-of-type {\n",
       "        vertical-align: middle;\n",
       "    }\n",
       "\n",
       "    .dataframe tbody tr th {\n",
       "        vertical-align: top;\n",
       "    }\n",
       "\n",
       "    .dataframe thead th {\n",
       "        text-align: right;\n",
       "    }\n",
       "</style>\n",
       "<table border=\"1\" class=\"dataframe\">\n",
       "  <thead>\n",
       "    <tr style=\"text-align: right;\">\n",
       "      <th></th>\n",
       "      <th>Open</th>\n",
       "      <th>High</th>\n",
       "      <th>Low</th>\n",
       "      <th>Close</th>\n",
       "      <th>Adj Close</th>\n",
       "      <th>Volume</th>\n",
       "      <th>3MA</th>\n",
       "      <th>5MA</th>\n",
       "    </tr>\n",
       "  </thead>\n",
       "  <tbody>\n",
       "    <tr>\n",
       "      <th>count</th>\n",
       "      <td>1228.000000</td>\n",
       "      <td>1228.000000</td>\n",
       "      <td>1228.000000</td>\n",
       "      <td>1228.000000</td>\n",
       "      <td>1228.000000</td>\n",
       "      <td>1.228000e+03</td>\n",
       "      <td>1226.000000</td>\n",
       "      <td>1224.000000</td>\n",
       "    </tr>\n",
       "    <tr>\n",
       "      <th>mean</th>\n",
       "      <td>58592.833876</td>\n",
       "      <td>59139.617264</td>\n",
       "      <td>58028.542345</td>\n",
       "      <td>58559.861564</td>\n",
       "      <td>54983.036464</td>\n",
       "      <td>1.559481e+07</td>\n",
       "      <td>54983.257486</td>\n",
       "      <td>54983.598736</td>\n",
       "    </tr>\n",
       "    <tr>\n",
       "      <th>std</th>\n",
       "      <td>13342.253846</td>\n",
       "      <td>13414.249807</td>\n",
       "      <td>13268.683363</td>\n",
       "      <td>13316.468081</td>\n",
       "      <td>14451.269210</td>\n",
       "      <td>8.454719e+06</td>\n",
       "      <td>14448.440532</td>\n",
       "      <td>14447.548602</td>\n",
       "    </tr>\n",
       "    <tr>\n",
       "      <th>min</th>\n",
       "      <td>37450.000000</td>\n",
       "      <td>37600.000000</td>\n",
       "      <td>36850.000000</td>\n",
       "      <td>37450.000000</td>\n",
       "      <td>33533.851560</td>\n",
       "      <td>0.000000e+00</td>\n",
       "      <td>33966.638020</td>\n",
       "      <td>34142.737500</td>\n",
       "    </tr>\n",
       "    <tr>\n",
       "      <th>25%</th>\n",
       "      <td>47150.000000</td>\n",
       "      <td>47550.000000</td>\n",
       "      <td>46600.000000</td>\n",
       "      <td>47137.500000</td>\n",
       "      <td>42108.180665</td>\n",
       "      <td>1.013937e+07</td>\n",
       "      <td>42087.641605</td>\n",
       "      <td>42078.821682</td>\n",
       "    </tr>\n",
       "    <tr>\n",
       "      <th>50%</th>\n",
       "      <td>55330.000000</td>\n",
       "      <td>55900.000000</td>\n",
       "      <td>54750.000000</td>\n",
       "      <td>55300.000000</td>\n",
       "      <td>51158.380860</td>\n",
       "      <td>1.377184e+07</td>\n",
       "      <td>51148.014320</td>\n",
       "      <td>51183.587890</td>\n",
       "    </tr>\n",
       "    <tr>\n",
       "      <th>75%</th>\n",
       "      <td>70200.000000</td>\n",
       "      <td>70525.000000</td>\n",
       "      <td>69725.000000</td>\n",
       "      <td>70100.000000</td>\n",
       "      <td>68582.281250</td>\n",
       "      <td>1.854792e+07</td>\n",
       "      <td>68646.238930</td>\n",
       "      <td>68745.393360</td>\n",
       "    </tr>\n",
       "    <tr>\n",
       "      <th>max</th>\n",
       "      <td>90300.000000</td>\n",
       "      <td>96800.000000</td>\n",
       "      <td>89500.000000</td>\n",
       "      <td>91000.000000</td>\n",
       "      <td>87764.804690</td>\n",
       "      <td>9.030618e+07</td>\n",
       "      <td>87218.281250</td>\n",
       "      <td>86761.773440</td>\n",
       "    </tr>\n",
       "  </tbody>\n",
       "</table>\n",
       "</div>"
      ],
      "text/plain": [
       "               Open          High           Low         Close     Adj Close  \\\n",
       "count   1228.000000   1228.000000   1228.000000   1228.000000   1228.000000   \n",
       "mean   58592.833876  59139.617264  58028.542345  58559.861564  54983.036464   \n",
       "std    13342.253846  13414.249807  13268.683363  13316.468081  14451.269210   \n",
       "min    37450.000000  37600.000000  36850.000000  37450.000000  33533.851560   \n",
       "25%    47150.000000  47550.000000  46600.000000  47137.500000  42108.180665   \n",
       "50%    55330.000000  55900.000000  54750.000000  55300.000000  51158.380860   \n",
       "75%    70200.000000  70525.000000  69725.000000  70100.000000  68582.281250   \n",
       "max    90300.000000  96800.000000  89500.000000  91000.000000  87764.804690   \n",
       "\n",
       "             Volume           3MA           5MA  \n",
       "count  1.228000e+03   1226.000000   1224.000000  \n",
       "mean   1.559481e+07  54983.257486  54983.598736  \n",
       "std    8.454719e+06  14448.440532  14447.548602  \n",
       "min    0.000000e+00  33966.638020  34142.737500  \n",
       "25%    1.013937e+07  42087.641605  42078.821682  \n",
       "50%    1.377184e+07  51148.014320  51183.587890  \n",
       "75%    1.854792e+07  68646.238930  68745.393360  \n",
       "max    9.030618e+07  87218.281250  86761.773440  "
      ]
     },
     "execution_count": 4,
     "metadata": {},
     "output_type": "execute_result"
    }
   ],
   "source": [
    "# 통계정보 확인\n",
    "raw_df.describe()"
   ]
  },
  {
   "cell_type": "code",
   "execution_count": 5,
   "id": "a31435af-2f74-472f-bce6-a0a7ae57473e",
   "metadata": {},
   "outputs": [
    {
     "data": {
      "text/plain": [
       "Date         0\n",
       "Open         0\n",
       "High         0\n",
       "Low          0\n",
       "Close        0\n",
       "Adj Close    0\n",
       "Volume       0\n",
       "3MA          2\n",
       "5MA          4\n",
       "dtype: int64"
      ]
     },
     "execution_count": 5,
     "metadata": {},
     "output_type": "execute_result"
    }
   ],
   "source": [
    "raw_df.isnull().sum()"
   ]
  },
  {
   "cell_type": "code",
   "execution_count": 6,
   "id": "1de8a764-5127-4edb-8395-957456b1f24e",
   "metadata": {},
   "outputs": [
    {
     "data": {
      "text/html": [
       "<div>\n",
       "<style scoped>\n",
       "    .dataframe tbody tr th:only-of-type {\n",
       "        vertical-align: middle;\n",
       "    }\n",
       "\n",
       "    .dataframe tbody tr th {\n",
       "        vertical-align: top;\n",
       "    }\n",
       "\n",
       "    .dataframe thead th {\n",
       "        text-align: right;\n",
       "    }\n",
       "</style>\n",
       "<table border=\"1\" class=\"dataframe\">\n",
       "  <thead>\n",
       "    <tr style=\"text-align: right;\">\n",
       "      <th></th>\n",
       "      <th>Date</th>\n",
       "      <th>Open</th>\n",
       "      <th>High</th>\n",
       "      <th>Low</th>\n",
       "      <th>Close</th>\n",
       "      <th>Adj Close</th>\n",
       "      <th>Volume</th>\n",
       "      <th>3MA</th>\n",
       "      <th>5MA</th>\n",
       "    </tr>\n",
       "  </thead>\n",
       "  <tbody>\n",
       "  </tbody>\n",
       "</table>\n",
       "</div>"
      ],
      "text/plain": [
       "Empty DataFrame\n",
       "Columns: [Date, Open, High, Low, Close, Adj Close, Volume, 3MA, 5MA]\n",
       "Index: []"
      ]
     },
     "execution_count": 6,
     "metadata": {},
     "output_type": "execute_result"
    }
   ],
   "source": [
    "raw_df.loc[raw_df['Open'].isna()]"
   ]
  },
  {
   "cell_type": "code",
   "execution_count": 7,
   "id": "e287d53b-4236-4e31-a4cd-730d07afd18f",
   "metadata": {},
   "outputs": [
    {
     "name": "stdout",
     "output_type": "stream",
     "text": [
      "Date:0\n",
      "Open:0\n",
      "High:0\n",
      "Low:0\n",
      "Close:0\n",
      "Adj Close:0\n",
      "Volume:0\n",
      "3MA:0\n",
      "5MA:0\n"
     ]
    }
   ],
   "source": [
    "# Volume 값 0을 NaN 으로 모두 대체\n",
    "raw_df['Volume']=raw_df['Volume'].replace(0, np.nan)\n",
    "\n",
    "# 각 column에 0 개수 확인\n",
    "for col in raw_df.columns:\n",
    "    missing_rows = raw_df.loc[raw_df[col]==0].shape[0]\n",
    "    print(col+':'+str(missing_rows))"
   ]
  },
  {
   "cell_type": "code",
   "execution_count": 8,
   "id": "03144015-ddc3-4218-9c88-abedd3e8ba83",
   "metadata": {},
   "outputs": [
    {
     "data": {
      "text/plain": [
       "Date          0\n",
       "Open          0\n",
       "High          0\n",
       "Low           0\n",
       "Close         0\n",
       "Adj Close     0\n",
       "Volume       16\n",
       "3MA           2\n",
       "5MA           4\n",
       "dtype: int64"
      ]
     },
     "execution_count": 8,
     "metadata": {},
     "output_type": "execute_result"
    }
   ],
   "source": [
    "raw_df.isnull().sum()"
   ]
  },
  {
   "cell_type": "code",
   "execution_count": 9,
   "id": "97eaf51f-fdc9-4c72-82ef-b9120d7d6f0c",
   "metadata": {},
   "outputs": [
    {
     "data": {
      "text/plain": [
       "Date         0\n",
       "Open         0\n",
       "High         0\n",
       "Low          0\n",
       "Close        0\n",
       "Adj Close    0\n",
       "Volume       0\n",
       "3MA          0\n",
       "5MA          0\n",
       "dtype: int64"
      ]
     },
     "execution_count": 9,
     "metadata": {},
     "output_type": "execute_result"
    }
   ],
   "source": [
    "raw_df=raw_df.dropna()\n",
    "raw_df.isnull().sum()"
   ]
  },
  {
   "cell_type": "code",
   "execution_count": 10,
   "id": "812ddfca-a71e-40f9-bc3c-02230b465fff",
   "metadata": {},
   "outputs": [
    {
     "name": "stdout",
     "output_type": "stream",
     "text": [
      "          Open      High       Low     Close  Adj Close       3MA       5MA  \\\n",
      "0     0.340397  0.310811  0.352327  0.342297   0.266155  0.261307  0.265743   \n",
      "1     0.358562  0.325676  0.360304  0.343044   0.266789  0.260769  0.263847   \n",
      "2     0.349101  0.310473  0.348528  0.331466   0.256957  0.260015  0.259991   \n",
      "3     0.339640  0.308108  0.350047  0.332960   0.258226  0.257324  0.257899   \n",
      "4     0.350615  0.314189  0.356505  0.345658   0.269009  0.258077  0.259925   \n",
      "...        ...       ...       ...       ...        ...       ...       ...   \n",
      "1203  0.409650  0.369932  0.409307  0.409897   0.476963  0.477607  0.482283   \n",
      "1204  0.421003  0.383446  0.428300  0.424837   0.491715  0.481363  0.485324   \n",
      "1205  0.436140  0.410473  0.449193  0.454715   0.521218  0.497638  0.492165   \n",
      "1206  0.464522  0.415541  0.464387  0.458450   0.524906  0.513913  0.501287   \n",
      "1207  0.453169  0.403716  0.452991  0.436041   0.502778  0.517668  0.507369   \n",
      "\n",
      "        Volume  \n",
      "0     0.037651  \n",
      "1     0.073651  \n",
      "2     0.058978  \n",
      "3     0.068896  \n",
      "4     0.041286  \n",
      "...        ...  \n",
      "1203  0.093590  \n",
      "1204  0.093490  \n",
      "1205  0.161437  \n",
      "1206  0.112213  \n",
      "1207  0.065438  \n",
      "\n",
      "[1208 rows x 8 columns]\n"
     ]
    }
   ],
   "source": [
    "# 정규화 (Date 제외한 모든 수치부분 정규화)\n",
    "\n",
    "from sklearn.preprocessing import MinMaxScaler\n",
    "\n",
    "scaler = MinMaxScaler()\n",
    "scale_cols=['Open','High','Low','Close','Adj Close','3MA','5MA','Volume']\n",
    "scaled_df=scaler.fit_transform(raw_df[scale_cols])\n",
    "scaled_df=pd.DataFrame(scaled_df, columns=scale_cols)\n",
    "print(scaled_df)"
   ]
  },
  {
   "cell_type": "code",
   "execution_count": 11,
   "id": "be645880-f04e-4773-9036-53d4cd75847b",
   "metadata": {},
   "outputs": [],
   "source": [
    "# 입력 파라미터 feature, label => numpy type\n",
    "def make_sequene_dataset(feature, label, window_size):\n",
    "    feature_list=[] # 생성될 feature list\n",
    "    label_list=[] # 생성될 label list\n",
    "    \n",
    "    for i in range(len(feature)-window_size):\n",
    "        feature_list.append(feature[i:i+window_size])\n",
    "        label_list.append(label[i+window_size])\n",
    "        \n",
    "    return np.array(feature_list), np.array(label_list)"
   ]
  },
  {
   "cell_type": "code",
   "execution_count": 12,
   "id": "3886cdfe-9d4b-4748-9808-c29efb3cc7a4",
   "metadata": {},
   "outputs": [],
   "source": [
    "# feature_df, label_df 생성\n",
    "feature_cols = ['3MA','5MA','Adj Close']\n",
    "label_cols = ['Adj Close']\n",
    "\n",
    "feature_df = pd.DataFrame(scaled_df, columns=feature_cols)\n",
    "label_df = pd.DataFrame(scaled_df, columns=label_cols)"
   ]
  },
  {
   "cell_type": "code",
   "execution_count": 13,
   "id": "3ae60a2c-ebda-4226-b62e-d3cddf70c3d0",
   "metadata": {},
   "outputs": [
    {
     "name": "stdout",
     "output_type": "stream",
     "text": [
      "(1208, 3) (1208, 1)\n"
     ]
    }
   ],
   "source": [
    "# DataFrame => Numpy 변환\n",
    "feature_np = feature_df.to_numpy()\n",
    "label_np = label_df.to_numpy()\n",
    "\n",
    "print(feature_np.shape, label_np.shape)"
   ]
  },
  {
   "cell_type": "code",
   "execution_count": 14,
   "id": "276c13ca-ed94-4612-84e3-767f437101a4",
   "metadata": {},
   "outputs": [
    {
     "name": "stdout",
     "output_type": "stream",
     "text": [
      "(1168, 40, 3) (1168, 1)\n"
     ]
    }
   ],
   "source": [
    "window_size = 40\n",
    "\n",
    "X, Y = make_sequene_dataset(feature_np, label_np, window_size)\n",
    "\n",
    "print(X.shape, Y.shape)"
   ]
  },
  {
   "cell_type": "code",
   "execution_count": 15,
   "id": "071cb7bc-b82f-4dd1-8d64-5655db5a7a77",
   "metadata": {},
   "outputs": [
    {
     "name": "stdout",
     "output_type": "stream",
     "text": [
      "(1109, 40, 3) (1109, 1)\n",
      "(59, 40, 3) (59, 1)\n"
     ]
    }
   ],
   "source": [
    "split = int(len(X)*0.95)\n",
    "\n",
    "x_train=X[0:split]\n",
    "y_train=Y[0:split]\n",
    "\n",
    "x_test=X[split:]\n",
    "y_test=Y[split:]\n",
    "\n",
    "print(x_train.shape, y_train.shape)\n",
    "print(x_test.shape, y_test.shape)"
   ]
  },
  {
   "cell_type": "code",
   "execution_count": 16,
   "id": "5c55dc14-a716-4249-b61a-592ff0830fc3",
   "metadata": {},
   "outputs": [
    {
     "name": "stdout",
     "output_type": "stream",
     "text": [
      "Model: \"sequential\"\n",
      "_________________________________________________________________\n",
      " Layer (type)                Output Shape              Param #   \n",
      "=================================================================\n",
      " lstm (LSTM)                 (None, 128)               67584     \n",
      "                                                                 \n",
      " dense (Dense)               (None, 1)                 129       \n",
      "                                                                 \n",
      "=================================================================\n",
      "Total params: 67,713\n",
      "Trainable params: 67,713\n",
      "Non-trainable params: 0\n",
      "_________________________________________________________________\n"
     ]
    }
   ],
   "source": [
    "model = Sequential()\n",
    "\n",
    "model.add(LSTM(128, activation='tanh', input_shape=x_train[0].shape))\n",
    "\n",
    "model.add(Dense(1, activation='linear'))\n",
    "\n",
    "model.compile(loss='mse', optimizer='adam', metrics=['mae'])\n",
    "model.summary()"
   ]
  },
  {
   "cell_type": "code",
   "execution_count": 17,
   "id": "84a147ae-838d-4635-9551-b2ae6bc23ce5",
   "metadata": {},
   "outputs": [
    {
     "name": "stdout",
     "output_type": "stream",
     "text": [
      "Epoch 1/100\n",
      "70/70 [==============================] - 3s 19ms/step - loss: 0.0163 - mae: 0.0683 - val_loss: 8.8408e-04 - val_mae: 0.0255\n",
      "Epoch 2/100\n",
      "70/70 [==============================] - 1s 13ms/step - loss: 0.0012 - mae: 0.0247 - val_loss: 8.6397e-04 - val_mae: 0.0250\n",
      "Epoch 3/100\n",
      "70/70 [==============================] - 1s 13ms/step - loss: 0.0011 - mae: 0.0239 - val_loss: 8.3440e-04 - val_mae: 0.0247\n",
      "Epoch 4/100\n",
      "70/70 [==============================] - 1s 15ms/step - loss: 0.0011 - mae: 0.0237 - val_loss: 7.8680e-04 - val_mae: 0.0234\n",
      "Epoch 5/100\n",
      "70/70 [==============================] - 1s 15ms/step - loss: 0.0011 - mae: 0.0245 - val_loss: 8.7180e-04 - val_mae: 0.0250\n",
      "Epoch 6/100\n",
      "70/70 [==============================] - 1s 14ms/step - loss: 0.0010 - mae: 0.0237 - val_loss: 7.0607e-04 - val_mae: 0.0218\n",
      "Epoch 7/100\n",
      "70/70 [==============================] - 1s 14ms/step - loss: 9.5169e-04 - mae: 0.0229 - val_loss: 8.1664e-04 - val_mae: 0.0228\n",
      "Epoch 8/100\n",
      "70/70 [==============================] - 1s 14ms/step - loss: 9.6979e-04 - mae: 0.0232 - val_loss: 6.1385e-04 - val_mae: 0.0209\n",
      "Epoch 9/100\n",
      "70/70 [==============================] - 1s 14ms/step - loss: 8.3146e-04 - mae: 0.0211 - val_loss: 5.9126e-04 - val_mae: 0.0198\n",
      "Epoch 10/100\n",
      "70/70 [==============================] - 1s 14ms/step - loss: 8.2015e-04 - mae: 0.0213 - val_loss: 7.7354e-04 - val_mae: 0.0238\n",
      "Epoch 11/100\n",
      "70/70 [==============================] - 1s 15ms/step - loss: 7.9661e-04 - mae: 0.0209 - val_loss: 5.3625e-04 - val_mae: 0.0193\n",
      "Epoch 12/100\n",
      "70/70 [==============================] - 1s 20ms/step - loss: 7.3006e-04 - mae: 0.0202 - val_loss: 8.8317e-04 - val_mae: 0.0232\n",
      "Epoch 13/100\n",
      "70/70 [==============================] - 1s 15ms/step - loss: 7.3367e-04 - mae: 0.0199 - val_loss: 5.3855e-04 - val_mae: 0.0185\n",
      "Epoch 14/100\n",
      "70/70 [==============================] - 1s 14ms/step - loss: 6.7677e-04 - mae: 0.0196 - val_loss: 4.9279e-04 - val_mae: 0.0181\n",
      "Epoch 15/100\n",
      "70/70 [==============================] - 1s 15ms/step - loss: 7.5375e-04 - mae: 0.0203 - val_loss: 5.0003e-04 - val_mae: 0.0182\n",
      "Epoch 16/100\n",
      "70/70 [==============================] - 1s 15ms/step - loss: 6.5750e-04 - mae: 0.0191 - val_loss: 5.0566e-04 - val_mae: 0.0180\n",
      "Epoch 17/100\n",
      "70/70 [==============================] - 1s 14ms/step - loss: 6.6341e-04 - mae: 0.0194 - val_loss: 4.9798e-04 - val_mae: 0.0187\n",
      "Epoch 18/100\n",
      "70/70 [==============================] - 1s 14ms/step - loss: 6.2322e-04 - mae: 0.0189 - val_loss: 4.8510e-04 - val_mae: 0.0185\n",
      "Epoch 19/100\n",
      "70/70 [==============================] - 1s 14ms/step - loss: 5.8260e-04 - mae: 0.0180 - val_loss: 4.6610e-04 - val_mae: 0.0176\n",
      "Epoch 20/100\n",
      "70/70 [==============================] - 1s 14ms/step - loss: 5.8259e-04 - mae: 0.0181 - val_loss: 5.1347e-04 - val_mae: 0.0195\n",
      "Epoch 21/100\n",
      "70/70 [==============================] - 1s 15ms/step - loss: 5.8927e-04 - mae: 0.0183 - val_loss: 5.5074e-04 - val_mae: 0.0182\n",
      "Epoch 22/100\n",
      "70/70 [==============================] - 1s 14ms/step - loss: 5.2754e-04 - mae: 0.0172 - val_loss: 4.6181e-04 - val_mae: 0.0183\n",
      "Epoch 23/100\n",
      "70/70 [==============================] - 1s 15ms/step - loss: 5.2155e-04 - mae: 0.0173 - val_loss: 4.8125e-04 - val_mae: 0.0173\n",
      "Epoch 24/100\n",
      "70/70 [==============================] - 1s 14ms/step - loss: 5.0539e-04 - mae: 0.0168 - val_loss: 4.2768e-04 - val_mae: 0.0175\n",
      "Epoch 25/100\n",
      "70/70 [==============================] - 1s 14ms/step - loss: 4.9764e-04 - mae: 0.0168 - val_loss: 6.5049e-04 - val_mae: 0.0192\n",
      "Epoch 26/100\n",
      "70/70 [==============================] - 1s 14ms/step - loss: 4.9532e-04 - mae: 0.0166 - val_loss: 5.0311e-04 - val_mae: 0.0174\n",
      "Epoch 27/100\n",
      "70/70 [==============================] - 1s 15ms/step - loss: 5.0688e-04 - mae: 0.0171 - val_loss: 4.1762e-04 - val_mae: 0.0176\n",
      "Epoch 28/100\n",
      "70/70 [==============================] - 1s 14ms/step - loss: 4.7927e-04 - mae: 0.0164 - val_loss: 3.9434e-04 - val_mae: 0.0168\n",
      "Epoch 29/100\n",
      "70/70 [==============================] - 1s 14ms/step - loss: 4.4879e-04 - mae: 0.0159 - val_loss: 4.2205e-04 - val_mae: 0.0165\n",
      "Epoch 30/100\n",
      "70/70 [==============================] - 1s 14ms/step - loss: 4.2737e-04 - mae: 0.0154 - val_loss: 4.2932e-04 - val_mae: 0.0179\n",
      "Epoch 31/100\n",
      "70/70 [==============================] - 1s 14ms/step - loss: 4.5395e-04 - mae: 0.0163 - val_loss: 4.5022e-04 - val_mae: 0.0184\n",
      "Epoch 32/100\n",
      "70/70 [==============================] - 1s 14ms/step - loss: 4.3929e-04 - mae: 0.0159 - val_loss: 3.7089e-04 - val_mae: 0.0163\n",
      "Epoch 33/100\n",
      "70/70 [==============================] - 1s 14ms/step - loss: 4.1019e-04 - mae: 0.0152 - val_loss: 4.5267e-04 - val_mae: 0.0164\n",
      "Epoch 34/100\n",
      "70/70 [==============================] - 1s 15ms/step - loss: 4.1584e-04 - mae: 0.0150 - val_loss: 4.7626e-04 - val_mae: 0.0188\n",
      "Epoch 35/100\n",
      "70/70 [==============================] - 1s 14ms/step - loss: 3.8604e-04 - mae: 0.0147 - val_loss: 3.8043e-04 - val_mae: 0.0156\n",
      "Epoch 36/100\n",
      "70/70 [==============================] - 1s 14ms/step - loss: 3.8688e-04 - mae: 0.0147 - val_loss: 3.7996e-04 - val_mae: 0.0155\n",
      "Epoch 37/100\n",
      "70/70 [==============================] - 1s 15ms/step - loss: 3.7299e-04 - mae: 0.0144 - val_loss: 3.5152e-04 - val_mae: 0.0158\n",
      "Epoch 38/100\n",
      "70/70 [==============================] - 1s 14ms/step - loss: 3.8271e-04 - mae: 0.0149 - val_loss: 3.4984e-04 - val_mae: 0.0153\n",
      "Epoch 39/100\n",
      "70/70 [==============================] - 1s 15ms/step - loss: 3.6250e-04 - mae: 0.0142 - val_loss: 3.6053e-04 - val_mae: 0.0161\n",
      "Epoch 40/100\n",
      "70/70 [==============================] - 1s 15ms/step - loss: 4.1498e-04 - mae: 0.0153 - val_loss: 3.6504e-04 - val_mae: 0.0163\n",
      "Epoch 41/100\n",
      "70/70 [==============================] - 1s 15ms/step - loss: 3.4772e-04 - mae: 0.0139 - val_loss: 3.4385e-04 - val_mae: 0.0150\n",
      "Epoch 42/100\n",
      "70/70 [==============================] - 1s 14ms/step - loss: 3.6261e-04 - mae: 0.0143 - val_loss: 3.3195e-04 - val_mae: 0.0150\n",
      "Epoch 43/100\n",
      "70/70 [==============================] - 1s 14ms/step - loss: 3.5594e-04 - mae: 0.0141 - val_loss: 3.3846e-04 - val_mae: 0.0149\n",
      "Epoch 44/100\n",
      "70/70 [==============================] - 1s 14ms/step - loss: 3.3565e-04 - mae: 0.0136 - val_loss: 3.3952e-04 - val_mae: 0.0147\n",
      "Epoch 45/100\n",
      "70/70 [==============================] - 1s 15ms/step - loss: 3.2589e-04 - mae: 0.0135 - val_loss: 3.9815e-04 - val_mae: 0.0167\n",
      "Epoch 46/100\n",
      "70/70 [==============================] - 1s 14ms/step - loss: 3.2048e-04 - mae: 0.0132 - val_loss: 3.3823e-04 - val_mae: 0.0154\n",
      "Epoch 47/100\n",
      "70/70 [==============================] - 1s 14ms/step - loss: 3.2881e-04 - mae: 0.0135 - val_loss: 3.3138e-04 - val_mae: 0.0152\n",
      "Epoch 48/100\n",
      "70/70 [==============================] - 1s 15ms/step - loss: 3.3120e-04 - mae: 0.0136 - val_loss: 3.6442e-04 - val_mae: 0.0158\n",
      "Epoch 49/100\n",
      "70/70 [==============================] - 1s 14ms/step - loss: 3.4731e-04 - mae: 0.0141 - val_loss: 3.3720e-04 - val_mae: 0.0145\n",
      "Epoch 50/100\n",
      "70/70 [==============================] - 1s 15ms/step - loss: 3.5985e-04 - mae: 0.0141 - val_loss: 3.2178e-04 - val_mae: 0.0143\n",
      "Epoch 51/100\n",
      "70/70 [==============================] - 1s 14ms/step - loss: 3.2962e-04 - mae: 0.0136 - val_loss: 3.2778e-04 - val_mae: 0.0150\n",
      "Epoch 52/100\n",
      "70/70 [==============================] - 1s 14ms/step - loss: 3.2799e-04 - mae: 0.0134 - val_loss: 3.4629e-04 - val_mae: 0.0147\n",
      "Epoch 53/100\n",
      "70/70 [==============================] - 1s 14ms/step - loss: 3.1764e-04 - mae: 0.0132 - val_loss: 3.5000e-04 - val_mae: 0.0147\n",
      "Epoch 54/100\n",
      "70/70 [==============================] - 1s 15ms/step - loss: 3.4641e-04 - mae: 0.0138 - val_loss: 3.4947e-04 - val_mae: 0.0153\n",
      "Epoch 55/100\n",
      "70/70 [==============================] - 1s 14ms/step - loss: 3.1903e-04 - mae: 0.0134 - val_loss: 3.0974e-04 - val_mae: 0.0141\n",
      "Epoch 56/100\n",
      "70/70 [==============================] - 1s 14ms/step - loss: 3.8799e-04 - mae: 0.0149 - val_loss: 3.1708e-04 - val_mae: 0.0142\n",
      "Epoch 57/100\n",
      "70/70 [==============================] - 1s 14ms/step - loss: 3.2005e-04 - mae: 0.0132 - val_loss: 4.0435e-04 - val_mae: 0.0155\n",
      "Epoch 58/100\n",
      "70/70 [==============================] - 1s 15ms/step - loss: 3.3545e-04 - mae: 0.0135 - val_loss: 3.1906e-04 - val_mae: 0.0144\n",
      "Epoch 59/100\n",
      "70/70 [==============================] - 1s 16ms/step - loss: 3.0655e-04 - mae: 0.0129 - val_loss: 3.2912e-04 - val_mae: 0.0146\n",
      "Epoch 60/100\n",
      "70/70 [==============================] - 1s 15ms/step - loss: 3.3808e-04 - mae: 0.0138 - val_loss: 4.4704e-04 - val_mae: 0.0177\n"
     ]
    }
   ],
   "source": [
    "from tensorflow.keras.callbacks import EarlyStopping\n",
    "\n",
    "early_stop = EarlyStopping(monitor='val_loss', patience=5)\n",
    "\n",
    "hist=model.fit(x_train, y_train,\n",
    "         validation_data=(x_test, y_test),\n",
    "         epochs=100, batch_size=16,\n",
    "         callbacks=[early_stop])"
   ]
  },
  {
   "cell_type": "code",
   "execution_count": 21,
   "id": "df8d82fe-101b-4017-bfc9-27ce4d165c81",
   "metadata": {},
   "outputs": [
    {
     "name": "stdout",
     "output_type": "stream",
     "text": [
      "2/2 [==============================] - 0s 11ms/step\n",
      "[0.49791342] [0.49879026]\n"
     ]
    }
   ],
   "source": [
    "pred = model.predict(x_test)\n",
    "print(pred[0],y_test[0])"
   ]
  },
  {
   "cell_type": "code",
   "execution_count": 20,
   "id": "f81da61f-e938-4377-a802-54d018e54afa",
   "metadata": {},
   "outputs": [
    {
     "name": "stdout",
     "output_type": "stream",
     "text": [
      "2/2 [==============================] - 0s 12ms/step\n"
     ]
    },
    {
     "data": {
      "image/png": "[encoded data removed]",
      "text/plain": [
       "<Figure size 864x432 with 1 Axes>"
      ]
     },
     "metadata": {
      "needs_background": "light"
     },
     "output_type": "display_data"
    }
   ],
   "source": [
    "pred=model.predict(x_test)\n",
    "plt.figure(figsize=(12,6))\n",
    "plt.title('3MA+5MA+Adj Close, window size=40')\n",
    "plt.ylabel('Adj close')\n",
    "plt.xlabel('period')\n",
    "plt.plot(y_test, label='actual')\n",
    "plt.plot(pred, label='prediction')\n",
    "plt.grid()\n",
    "plt.legend(loc='best')\n",
    "plt.show()"
   ]
  },
  {
   "cell_type": "code",
   "execution_count": 19,
   "id": "c83cafa2-c6cf-4b60-8697-aa6646acacef",
   "metadata": {},
   "outputs": [
    {
     "name": "stdout",
     "output_type": "stream",
     "text": [
      "0.04107284811805702\n"
     ]
    }
   ],
   "source": [
    "print(np.sum(abs(y_test-pred)/y_test)/len(x_test))"
   ]
  },
  {
   "cell_type": "code",
   "execution_count": null,
   "id": "2e5cad04-3596-4210-8af7-076d1c7da219",
   "metadata": {},
   "outputs": [],
   "source": []
  }
 ],
 "metadata": {
  "kernelspec": {
   "display_name": "Python 3",
   "language": "python",
   "name": "python3"
  },
  "language_info": {
   "codemirror_mode": {
    "name": "ipython",
    "version": 3
   },
   "file_extension": ".py",
   "mimetype": "text/x-python",
   "name": "python",
   "nbconvert_exporter": "python",
   "pygments_lexer": "ipython3",
   "version": "3.8.8"
  }
 },
 "nbformat": 4,
 "nbformat_minor": 5
}
