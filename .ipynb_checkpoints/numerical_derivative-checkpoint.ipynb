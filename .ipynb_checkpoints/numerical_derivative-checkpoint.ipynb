{
 "cells": [
  {
   "cell_type": "code",
   "execution_count": 1,
   "id": "c5427e03-0e50-4f6f-98c9-4a985645eed9",
   "metadata": {},
   "outputs": [],
   "source": [
    "def my_func1(x):\n",
    "    return x**2"
   ]
  },
  {
   "cell_type": "code",
   "execution_count": 4,
   "id": "45d1a882-6524-47e2-b2af-9bd58866efb0",
   "metadata": {},
   "outputs": [],
   "source": [
    "def numerical_drivative(f, x):\n",
    "    delta_x=1e-4\n",
    "    return (f(x+delta_x)-f(x-delta_x))/(2*delta_x)"
   ]
  },
  {
   "cell_type": "code",
   "execution_count": 5,
   "id": "74bec71c-2ecf-42cb-b9c9-0ba6ec900c20",
   "metadata": {},
   "outputs": [
    {
     "name": "stdout",
     "output_type": "stream",
     "text": [
      "result= 6.000000000012662\n"
     ]
    }
   ],
   "source": [
    "result = numerical_drivative(my_func1, 3)\n",
    "print(\"result=\", result)"
   ]
  },
  {
   "cell_type": "code",
   "execution_count": 6,
   "id": "87468797-41bd-46e5-9d26-08b8653683c0",
   "metadata": {},
   "outputs": [],
   "source": [
    "import numpy as np\n",
    "\n",
    "def my_func2(x):\n",
    "    return 3*x*(np.exp(x))"
   ]
  },
  {
   "cell_type": "code",
   "execution_count": 8,
   "id": "56b8ab0d-f980-479a-a4a3-6e748a4d7f32",
   "metadata": {},
   "outputs": [
    {
     "name": "stdout",
     "output_type": "stream",
     "text": [
      "result == 66.50150507518049\n"
     ]
    }
   ],
   "source": [
    "result = numerical_derivative(my_func2, 2)\n",
    "print(\"result ==\", result)"
   ]
  },
  {
   "cell_type": "code",
   "execution_count": 11,
   "id": "a0486d14-f0f3-4cb7-b8c7-40653d49ec91",
   "metadata": {},
   "outputs": [
    {
     "name": "stdout",
     "output_type": "stream",
     "text": [
      "3*exp(2) + 3*2*exp(2) ==66.50150489037586\n"
     ]
    }
   ],
   "source": [
    "print(\"3*exp(2) + 3*2*exp(2) ==\", end='')\n",
    "print(3*np.exp(2) + 3*2*np.exp(2))"
   ]
  },
  {
   "cell_type": "code",
   "execution_count": 23,
   "id": "6ad81c29-5595-4f7c-a003-1479a2f384f3",
   "metadata": {},
   "outputs": [],
   "source": [
    "def numerical_derivative(f,x):\n",
    "    delta_x= 1e-4\n",
    "    grad = np.zeros_like(x)\n",
    "    \n",
    "    print(\"debug 1. initial input variable =\", x)\n",
    "    print(\"debug 2. initial grad =\", grad)\n",
    "    print(\"=====================================\")\n",
    "    \n",
    "    it = np.nditer(x, flags=['multi_index'], op_flags=['readwrite'])\n",
    "    \n",
    "    while not it.finished:\n",
    "        idx=it.multi_index\n",
    "        \n",
    "        print(\"debug 3. idx=\", idx, \", x[idx]=\", x[idx])\n",
    "        \n",
    "        tmp_val = x[idx]\n",
    "        x[idx] = float(tmp_val) + delta_x\n",
    "        fx1 = f(x) #f(x+delta_x)\n",
    "        \n",
    "        x[idx] = float(tmp_val) - delta_x\n",
    "        fx2 = f(x) #f(x-delta_X)\n",
    "        grad[idx] = (fx1 - fx2) / (2*delta_x)\n",
    "        \n",
    "        print(\"debug 4. grad[idx]=\", grad[idx])\n",
    "        print(\"debug 5. grad =\", grad)\n",
    "        print(\"=====================================\")\n",
    "        \n",
    "        x[idx] = tmp_val\n",
    "        it.iternext()\n",
    "        \n",
    "    return grad"
   ]
  },
  {
   "cell_type": "code",
   "execution_count": 24,
   "id": "38423547-bbae-44c4-acf5-7d9929921b77",
   "metadata": {},
   "outputs": [],
   "source": [
    "def func2(input_obj):\n",
    "    x=input_obj[0]\n",
    "    y=input_obj[1]\n",
    "    return (2*x + 3*x*y + np.power(y,3)) # 2x + 3xy + y**3"
   ]
  },
  {
   "cell_type": "code",
   "execution_count": 25,
   "id": "4509ee12-3871-43ce-bb2d-d37c76480d73",
   "metadata": {},
   "outputs": [
    {
     "name": "stdout",
     "output_type": "stream",
     "text": [
      "debug 1. initial input variable = [3. 2.]\n",
      "debug 2. initial grad = [0. 0.]\n",
      "=====================================\n",
      "debug 3. idx= (0,) , x[idx]= 3.0\n",
      "debug 4. grad[idx]= 7.999999999999119\n",
      "debug 5. grad = [8. 0.]\n",
      "=====================================\n",
      "debug 3. idx= (1,) , x[idx]= 2.0\n",
      "debug 4. grad[idx]= 21.000000010040765\n",
      "debug 5. grad = [ 8.         21.00000001]\n",
      "=====================================\n"
     ]
    },
    {
     "data": {
      "text/plain": [
       "array([ 8.        , 21.00000001])"
      ]
     },
     "execution_count": 25,
     "metadata": {},
     "output_type": "execute_result"
    }
   ],
   "source": [
    "numerical_derivative(func2, np.array([3.0, 2.0]))"
   ]
  },
  {
   "cell_type": "code",
   "execution_count": 26,
   "id": "78fb8d05-0d35-4b42-bdaa-8152f5b90d35",
   "metadata": {},
   "outputs": [],
   "source": [
    "def func3(input_ibj):\n",
    "    w=input_obj[0]\n",
    "    x=input_obj[1]\n",
    "    y=input_obj[2]\n",
    "    z=input_obj[3]\n",
    "    return (w*x + x*y*z + 3*w + z*np.power(y,2)) # wx + xyz + 3w + y**2"
   ]
  },
  {
   "cell_type": "code",
   "execution_count": null,
   "id": "8d2d345a-4c1f-4565-ad5a-b751b6b36695",
   "metadata": {},
   "outputs": [],
   "source": []
  }
 ],
 "metadata": {
  "kernelspec": {
   "display_name": "Python 3",
   "language": "python",
   "name": "python3"
  },
  "language_info": {
   "codemirror_mode": {
    "name": "ipython",
    "version": 3
   },
   "file_extension": ".py",
   "mimetype": "text/x-python",
   "name": "python",
   "nbconvert_exporter": "python",
   "pygments_lexer": "ipython3",
   "version": "3.8.8"
  }
 },
 "nbformat": 4,
 "nbformat_minor": 5
}
