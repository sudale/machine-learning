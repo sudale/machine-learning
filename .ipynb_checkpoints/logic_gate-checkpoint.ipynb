{
 "cells": [
  {
   "cell_type": "code",
   "execution_count": 1,
   "id": "16d626fe-0749-4539-a3fb-a3a73eeb2759",
   "metadata": {},
   "outputs": [],
   "source": [
    "import numpy as np"
   ]
  },
  {
   "cell_type": "code",
   "execution_count": 2,
   "id": "36efcb50-18d7-4ef5-a5d4-5d535eadedf3",
   "metadata": {},
   "outputs": [],
   "source": [
    "def sigmoid(x):\n",
    "    return 1/(1+np.exp(-x))"
   ]
  },
  {
   "cell_type": "code",
   "execution_count": 3,
   "id": "72c2e9d1-8af8-465c-a63f-de967263e9bc",
   "metadata": {},
   "outputs": [],
   "source": [
    "def numerical_derivative(f,x):\n",
    "    delta_x= 1e-4\n",
    "    grad = np.zeros_like(x)\n",
    "    \n",
    "#     print(\"debug 1. initial input variable =\", x)\n",
    "#     print(\"debug 2. initial grad =\", grad)\n",
    "#     print(\"=====================================\")\n",
    "    \n",
    "    it = np.nditer(x, flags=['multi_index'], op_flags=['readwrite'])\n",
    "    \n",
    "    while not it.finished:\n",
    "        idx=it.multi_index\n",
    "        \n",
    "#         print(\"debug 3. idx=\", idx, \", x[idx]=\", x[idx])\n",
    "        \n",
    "        tmp_val = x[idx]\n",
    "        x[idx] = float(tmp_val) + delta_x\n",
    "        fx1 = f(x) #f(x+delta_x)\n",
    "        \n",
    "        x[idx] = float(tmp_val) - delta_x\n",
    "        fx2 = f(x) #f(x-delta_X)\n",
    "        grad[idx] = (fx1 - fx2) / (2*delta_x)\n",
    "        \n",
    "#         print(\"debug 4. grad[idx]=\", grad[idx])\n",
    "#         print(\"debug 5. grad =\", grad)\n",
    "#         print(\"=====================================\")\n",
    "        \n",
    "        x[idx] = tmp_val\n",
    "        it.iternext()\n",
    "        \n",
    "    return grad"
   ]
  },
  {
   "cell_type": "code",
   "execution_count": 4,
   "id": "5832f137-80d9-4640-97b8-45b2b86a286a",
   "metadata": {},
   "outputs": [],
   "source": [
    "class LogicGate():\n",
    "    def __init__(self, gate_name, xdata,tdata): # __xdata, __tdata, __w, __b 초기화\n",
    "        self.name=gate_name\n",
    "        self.__xdata=xdata.reshape(4,2) # __ = private(외부접근불가능)\n",
    "        self.__tdata=tdata.reshape(4,1)\n",
    "        \n",
    "        self.__w=np.random.rand(2,1)\n",
    "        self.__b=np.random.rand(1)\n",
    "        \n",
    "        self.__learning_rate = 1e-2\n",
    "        \n",
    "    # 손실함수\n",
    "    def __loss_func(self):\n",
    "        delta = 1e-7  # log 무한대 발산방지\n",
    "        \n",
    "        z=np.dot(self.__xdata, self.__w)+self.__b\n",
    "        y=sigmoid(z)\n",
    "        \n",
    "        return -np.sum(self.__tdata*np.log(y+delta)+(1-self.__tdata)*np.log((1-y)+delta))\n",
    "    \n",
    "    def train(self):\n",
    "        f=lambda x: self.__loss_func()\n",
    "        print(\"Initial error value:\", self.__loss_func())\n",
    "\n",
    "        for step in range(20001):\n",
    "            self.__w-=self.__learning_rate * numerical_derivative(f,self.__w)\n",
    "            self.__b-=self.__learning_rate * numerical_derivative(f,self.__b)\n",
    "\n",
    "            if step%400==0:\n",
    "                print(\"step=\", step, \"error value=\", self.__loss_func())\n",
    "                \n",
    "    def predict(self, input_data):\n",
    "        z=np.dot(input_data,self.__w)+self.__b\n",
    "        y=sigmoid(z)\n",
    "\n",
    "        if y>0.5:\n",
    "            result=1\n",
    "        else:\n",
    "            result=0\n",
    "        return y, result\n",
    "    "
   ]
  },
  {
   "cell_type": "code",
   "execution_count": 5,
   "id": "492039a8-a0eb-438a-9037-8c34b600b4c7",
   "metadata": {},
   "outputs": [],
   "source": [
    "xdata=np.array([[0,0],[0,1],[1,0],[1,1]])\n",
    "tdata=np.array([0,0,0,1])"
   ]
  },
  {
   "cell_type": "code",
   "execution_count": 6,
   "id": "1a6de122-b621-4e98-9a97-6fce57d633ff",
   "metadata": {
    "tags": []
   },
   "outputs": [
    {
     "name": "stdout",
     "output_type": "stream",
     "text": [
      "Initial error value: 3.902662257404323\n",
      "step= 0 error value= 3.861477954108525\n",
      "step= 400 error value= 1.5928777057821057\n",
      "step= 800 error value= 1.1709431380348856\n",
      "step= 1200 error value= 0.9363108559240352\n",
      "step= 1600 error value= 0.7831015140121235\n",
      "step= 2000 error value= 0.6736935249809406\n",
      "step= 2400 error value= 0.5910968021927501\n",
      "step= 2800 error value= 0.5263285427082433\n",
      "step= 3200 error value= 0.4741084047846315\n",
      "step= 3600 error value= 0.43109249900581015\n",
      "step= 4000 error value= 0.39504429599429525\n",
      "step= 4400 error value= 0.3644042047522922\n",
      "step= 4800 error value= 0.3380482786656458\n",
      "step= 5200 error value= 0.3151445773526563\n",
      "step= 5600 error value= 0.29506346199875805\n",
      "step= 6000 error value= 0.27731934065138414\n",
      "step= 6400 error value= 0.26153158970799806\n",
      "step= 6800 error value= 0.2473976111841659\n",
      "step= 7200 error value= 0.2346738158696623\n",
      "step= 7600 error value= 0.2231619245281409\n",
      "step= 8000 error value= 0.2126989219083757\n",
      "step= 8400 error value= 0.20314957183041593\n",
      "step= 8800 error value= 0.19440076085064042\n",
      "step= 9200 error value= 0.1863571688779661\n",
      "step= 9600 error value= 0.17893791688535565\n",
      "step= 10000 error value= 0.17207394367514459\n",
      "step= 10400 error value= 0.16570593321137606\n",
      "step= 10800 error value= 0.15978266233604915\n",
      "step= 11200 error value= 0.1542596727372968\n",
      "step= 11600 error value= 0.14909819537175004\n",
      "step= 12000 error value= 0.14426427315316082\n",
      "step= 12400 error value= 0.13972804061107438\n",
      "step= 12800 error value= 0.1354631287633575\n",
      "step= 13200 error value= 0.1314461705755548\n",
      "step= 13600 error value= 0.1276563877590674\n",
      "step= 14000 error value= 0.12407524375189362\n",
      "step= 14400 error value= 0.12068615086551643\n",
      "step= 14800 error value= 0.11747422200804589\n",
      "step= 15200 error value= 0.11442605928327823\n",
      "step= 15600 error value= 0.11152957324630218\n",
      "step= 16000 error value= 0.1087738277649143\n",
      "step= 16400 error value= 0.10614890636333776\n",
      "step= 16800 error value= 0.10364579666527968\n",
      "step= 17200 error value= 0.10125629014759227\n",
      "step= 17600 error value= 0.09897289489533156\n",
      "step= 18000 error value= 0.09678875943793859\n",
      "step= 18400 error value= 0.09469760606289576\n",
      "step= 18800 error value= 0.09269367226269906\n",
      "step= 19200 error value= 0.09077165918397079\n",
      "step= 19600 error value= 0.08892668612355839\n",
      "step= 20000 error value= 0.08715425026208073\n"
     ]
    }
   ],
   "source": [
    "and_obj=LogicGate(\"AND_GATE\",xdata,tdata)\n",
    "and_obj.train()"
   ]
  },
  {
   "cell_type": "code",
   "execution_count": 7,
   "id": "1b9a6951-5c9e-4364-beb4-9cd80315b415",
   "metadata": {},
   "outputs": [
    {
     "name": "stdout",
     "output_type": "stream",
     "text": [
      "AND_GATE\n"
     ]
    },
    {
     "ename": "AttributeError",
     "evalue": "'LogicGate' object has no attribute '_LogicGate__input_data'",
     "output_type": "error",
     "traceback": [
      "\u001b[1;31m---------------------------------------------------------------------------\u001b[0m",
      "\u001b[1;31mAttributeError\u001b[0m                            Traceback (most recent call last)",
      "\u001b[1;32m<ipython-input-7-0fc0d080a998>\u001b[0m in \u001b[0;36m<module>\u001b[1;34m\u001b[0m\n\u001b[0;32m      3\u001b[0m \u001b[1;33m\u001b[0m\u001b[0m\n\u001b[0;32m      4\u001b[0m \u001b[1;32mfor\u001b[0m \u001b[0minput_data\u001b[0m \u001b[1;32min\u001b[0m \u001b[0mtest_data\u001b[0m\u001b[1;33m:\u001b[0m\u001b[1;33m\u001b[0m\u001b[1;33m\u001b[0m\u001b[0m\n\u001b[1;32m----> 5\u001b[1;33m     \u001b[1;33m(\u001b[0m\u001b[0mreal_val\u001b[0m\u001b[1;33m,\u001b[0m \u001b[0mlogical_val\u001b[0m\u001b[1;33m)\u001b[0m\u001b[1;33m=\u001b[0m\u001b[0mand_obj\u001b[0m\u001b[1;33m.\u001b[0m\u001b[0mpredict\u001b[0m\u001b[1;33m(\u001b[0m\u001b[0minput_data\u001b[0m\u001b[1;33m)\u001b[0m\u001b[1;33m\u001b[0m\u001b[1;33m\u001b[0m\u001b[0m\n\u001b[0m\u001b[0;32m      6\u001b[0m     \u001b[0mprint\u001b[0m\u001b[1;33m(\u001b[0m\u001b[0minput_data\u001b[0m\u001b[1;33m,\u001b[0m\u001b[1;34m\"=\"\u001b[0m\u001b[1;33m,\u001b[0m\u001b[0mlogical_val\u001b[0m\u001b[1;33m)\u001b[0m\u001b[1;33m\u001b[0m\u001b[1;33m\u001b[0m\u001b[0m\n",
      "\u001b[1;32m<ipython-input-4-973789fdc431>\u001b[0m in \u001b[0;36mpredict\u001b[1;34m(self, input_data)\u001b[0m\n\u001b[0;32m     31\u001b[0m \u001b[1;33m\u001b[0m\u001b[0m\n\u001b[0;32m     32\u001b[0m     \u001b[1;32mdef\u001b[0m \u001b[0mpredict\u001b[0m\u001b[1;33m(\u001b[0m\u001b[0mself\u001b[0m\u001b[1;33m,\u001b[0m \u001b[0minput_data\u001b[0m\u001b[1;33m)\u001b[0m\u001b[1;33m:\u001b[0m\u001b[1;33m\u001b[0m\u001b[1;33m\u001b[0m\u001b[0m\n\u001b[1;32m---> 33\u001b[1;33m         \u001b[0mz\u001b[0m\u001b[1;33m=\u001b[0m\u001b[0mnp\u001b[0m\u001b[1;33m.\u001b[0m\u001b[0mdot\u001b[0m\u001b[1;33m(\u001b[0m\u001b[0mself\u001b[0m\u001b[1;33m.\u001b[0m\u001b[0m__input_data\u001b[0m\u001b[1;33m,\u001b[0m\u001b[0mself\u001b[0m\u001b[1;33m.\u001b[0m\u001b[0m__w\u001b[0m\u001b[1;33m)\u001b[0m\u001b[1;33m+\u001b[0m\u001b[0mself\u001b[0m\u001b[1;33m.\u001b[0m\u001b[0m__b\u001b[0m\u001b[1;33m\u001b[0m\u001b[1;33m\u001b[0m\u001b[0m\n\u001b[0m\u001b[0;32m     34\u001b[0m         \u001b[0my\u001b[0m\u001b[1;33m=\u001b[0m\u001b[0msigmoid\u001b[0m\u001b[1;33m(\u001b[0m\u001b[0mz\u001b[0m\u001b[1;33m)\u001b[0m\u001b[1;33m\u001b[0m\u001b[1;33m\u001b[0m\u001b[0m\n\u001b[0;32m     35\u001b[0m \u001b[1;33m\u001b[0m\u001b[0m\n",
      "\u001b[1;31mAttributeError\u001b[0m: 'LogicGate' object has no attribute '_LogicGate__input_data'"
     ]
    }
   ],
   "source": [
    "print(and_obj.name)\n",
    "test_data=np.array([[0,0],[0,1],[1,0],[1,1]])\n",
    "\n",
    "for input_data in test_data:\n",
    "    (real_val, logical_val)=and_obj.predict(input_data)\n",
    "    print(input_data,\"=\",logical_val)"
   ]
  },
  {
   "cell_type": "code",
   "execution_count": null,
   "id": "490a9b55-f52b-4fdd-979b-7f2507f869c9",
   "metadata": {},
   "outputs": [],
   "source": [
    "xdata=np.array([[0,0],[0,1],[1,0],[1,1]])\n",
    "tdata=np.array([0,1,1,1])"
   ]
  },
  {
   "cell_type": "code",
   "execution_count": null,
   "id": "ec479b78-63b3-4f57-a886-e9d8b8de19d3",
   "metadata": {},
   "outputs": [],
   "source": [
    "or_obj=LogicGate(\"OR_GATE\",xdata,tdata)\n",
    "or_obj.train()"
   ]
  },
  {
   "cell_type": "code",
   "execution_count": null,
   "id": "d6e31949-48b0-4aa2-b9bd-e26570060ab0",
   "metadata": {},
   "outputs": [],
   "source": [
    "print(or_obj.name)\n",
    "test_data=np.array([[0,0],[0,1],[1,0],[1,1]])\n",
    "\n",
    "for input_data in test_data:\n",
    "    (real_val, logical_val)=or_obj.predict(input_data)\n",
    "    print(input_data,\"=\",logical_val)"
   ]
  },
  {
   "cell_type": "code",
   "execution_count": null,
   "id": "a07213c4-b132-4623-a78a-494f1277fe1b",
   "metadata": {},
   "outputs": [],
   "source": [
    "xdata=np.array([[0,0],[0,1],[1,0],[1,1]])\n",
    "tdata=np.array([1,1,1,0])"
   ]
  },
  {
   "cell_type": "code",
   "execution_count": null,
   "id": "f5a49a9c-93e4-4995-bc07-cb1d73917f50",
   "metadata": {},
   "outputs": [],
   "source": [
    "nand_obj=LogicGate(\"NAND_GATE\",xdata,tdata)\n",
    "nand_obj.train()"
   ]
  },
  {
   "cell_type": "code",
   "execution_count": null,
   "id": "2d986bc6-1d5a-48b3-b6a9-6d044ed39231",
   "metadata": {},
   "outputs": [],
   "source": [
    "print(nand_obj.name)\n",
    "test_data=np.array([[0,0],[0,1],[1,0],[1,1]])\n",
    "\n",
    "for input_data in test_data:\n",
    "    (real_val, logical_val)=nand_obj.predict(input_data)\n",
    "    print(input_data,\"=\",logical_val)"
   ]
  },
  {
   "cell_type": "code",
   "execution_count": null,
   "id": "8aa9cb94-88dd-40dd-abdc-e65bc3cf4b6e",
   "metadata": {},
   "outputs": [],
   "source": [
    "xdata=np.array([[0,0],[0,1],[1,0],[1,1]])\n",
    "tdata=np.array([0,1,1,0])"
   ]
  },
  {
   "cell_type": "code",
   "execution_count": null,
   "id": "a2ae77fa-f33f-41d9-a54f-8b63ee6ea453",
   "metadata": {},
   "outputs": [],
   "source": [
    "xor_obj=LogicGate(\"XOR_GATE\",xdata,tdata)\n",
    "xor_obj.train()"
   ]
  },
  {
   "cell_type": "code",
   "execution_count": null,
   "id": "e4765a9f-710b-41be-b9d8-dd7683a55286",
   "metadata": {},
   "outputs": [],
   "source": [
    "print(xor_obj.name)\n",
    "test_data=np.array([[0,0],[0,1],[1,0],[1,1]])\n",
    "\n",
    "for input_data in test_data:\n",
    "    (real_val, logical_val)=xor_obj.predict(input_data)\n",
    "    print(input_data,\"=\",logical_val)"
   ]
  },
  {
   "cell_type": "code",
   "execution_count": null,
   "id": "f94f4217-4ee0-4d64-8f8e-c84e78c94041",
   "metadata": {},
   "outputs": [],
   "source": [
    "input_data = np.array([[0,0],[0,1],[1,0],[1,1]])\n",
    "\n",
    "s1=[]\n",
    "s2=[]\n",
    "\n",
    "new_input_data=[]\n",
    "final_output=[]\n",
    "\n",
    "for index in range(len(input_data)):\n",
    "    \n",
    "    s1 = nand_obj.predict(input_data[index])\n",
    "    s2 = or_obj.predict(input_data[index])\n",
    "    \n",
    "    new_input_data.append(s1[-1])\n",
    "    new_input_data.append(s2[-1])\n",
    "    \n",
    "    (sigmoid_val, logical_val) = and_obj.predict(np.array(new_input_data))\n",
    "    final_output_data=[]\n",
    "\n",
    "for index in range(len(input_data)):\n",
    "    print(input_data[index],\"=\",final_output[index], end='')\n",
    "    print(\"\\n\")"
   ]
  },
  {
   "cell_type": "code",
   "execution_count": null,
   "id": "d0c671ae-85db-445b-920e-e0b8872bb051",
   "metadata": {},
   "outputs": [],
   "source": []
  }
 ],
 "metadata": {
  "kernelspec": {
   "display_name": "Python 3",
   "language": "python",
   "name": "python3"
  },
  "language_info": {
   "codemirror_mode": {
    "name": "ipython",
    "version": 3
   },
   "file_extension": ".py",
   "mimetype": "text/x-python",
   "name": "python",
   "nbconvert_exporter": "python",
   "pygments_lexer": "ipython3",
   "version": "3.8.8"
  }
 },
 "nbformat": 4,
 "nbformat_minor": 5
}
