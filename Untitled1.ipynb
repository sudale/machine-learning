{
 "cells": [
  {
   "cell_type": "code",
   "execution_count": 6,
   "id": "8e5800ae-08cd-48f0-8844-8b31715997e4",
   "metadata": {},
   "outputs": [
    {
     "name": "stderr",
     "output_type": "stream",
     "text": [
      "WARNING:absl:Found untraced functions such as _jit_compiled_convolution_op, _jit_compiled_convolution_op, _jit_compiled_convolution_op, _jit_compiled_convolution_op, _jit_compiled_convolution_op while saving (showing 5 of 7). These functions will not be directly callable after loading.\n"
     ]
    },
    {
     "name": "stdout",
     "output_type": "stream",
     "text": [
      "INFO:tensorflow:Assets written to: C:\\Users\\dta47\\AppData\\Local\\Temp\\tmpq9g0eoj1\\assets\n"
     ]
    },
    {
     "name": "stderr",
     "output_type": "stream",
     "text": [
      "INFO:tensorflow:Assets written to: C:\\Users\\dta47\\AppData\\Local\\Temp\\tmpq9g0eoj1\\assets\n"
     ]
    }
   ],
   "source": [
    "import tensorflow as tf\n",
    "\n",
    "mod_path = \"C:\\\\ml_work\\\\data\\\\bast.h5\"\n",
    "keras_mod = tf.keras.models.load_model(mod_path)\n",
    "converter = tf.lite.TFLiteConverter.from_keras_model(keras_mod)\n",
    "tflite_model = converter.convert()\n",
    "# Save The TF Lite model\n",
    "with tf.io.gfile.GFile('data/flawer.tflite','wb') as f:\n",
    "    f.write(tflite_model)"
   ]
  },
  {
   "cell_type": "code",
   "execution_count": null,
   "id": "9a7de900-5719-4785-ad60-d654b47fcf32",
   "metadata": {},
   "outputs": [],
   "source": []
  }
 ],
 "metadata": {
  "kernelspec": {
   "display_name": "Python 3",
   "language": "python",
   "name": "python3"
  },
  "language_info": {
   "codemirror_mode": {
    "name": "ipython",
    "version": 3
   },
   "file_extension": ".py",
   "mimetype": "text/x-python",
   "name": "python",
   "nbconvert_exporter": "python",
   "pygments_lexer": "ipython3",
   "version": "3.8.8"
  }
 },
 "nbformat": 4,
 "nbformat_minor": 5
}
